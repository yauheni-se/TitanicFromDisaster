{
 "cells": [
  {
   "cell_type": "markdown",
   "id": "4a1312ce",
   "metadata": {},
   "source": [
    "Setup"
   ]
  },
  {
   "cell_type": "code",
   "execution_count": 3,
   "id": "59876138",
   "metadata": {},
   "outputs": [
    {
     "ename": "ERROR",
     "evalue": "Error in fread(\"train.csv\"): File 'train.csv' does not exist or is non-readable. getwd()=='C:/Python'\n",
     "output_type": "error",
     "traceback": [
      "Error in fread(\"train.csv\"): File 'train.csv' does not exist or is non-readable. getwd()=='C:/Python'\nTraceback:\n",
      "1. fread(\"train.csv\")",
      "2. stop(\"File '\", file, \"' does not exist or is non-readable. getwd()=='\", \n .     getwd(), \"'\")"
     ]
    }
   ],
   "source": [
    "library(dplyr)\n",
    "library(data.table)\n",
    "library(ggplot2)\n",
    "\n",
    "rm(list = ls())\n",
    "\n",
    "train <- fread(\"train.csv\")"
   ]
  },
  {
   "cell_type": "markdown",
   "id": "e511f7b9",
   "metadata": {},
   "source": [
    "EDA"
   ]
  },
  {
   "cell_type": "code",
   "execution_count": null,
   "id": "804bf673",
   "metadata": {},
   "outputs": [],
   "source": [
    "train"
   ]
  }
 ],
 "metadata": {
  "kernelspec": {
   "display_name": "R",
   "language": "R",
   "name": "ir"
  },
  "language_info": {
   "codemirror_mode": "r",
   "file_extension": ".r",
   "mimetype": "text/x-r-source",
   "name": "R",
   "pygments_lexer": "r",
   "version": "4.0.4"
  }
 },
 "nbformat": 4,
 "nbformat_minor": 5
}
