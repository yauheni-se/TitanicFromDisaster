{
 "cells": [
  {
   "cell_type": "markdown",
   "id": "375feec6",
   "metadata": {
    "heading_collapsed": true
   },
   "source": [
    "# Presets"
   ]
  },
  {
   "cell_type": "code",
   "execution_count": 108,
   "id": "dbe97afd",
   "metadata": {
    "ExecuteTime": {
     "end_time": "2022-10-29T08:43:30.070750Z",
     "start_time": "2022-10-29T08:43:30.054753Z"
    },
    "hidden": true,
    "scrolled": true
   },
   "outputs": [],
   "source": [
    "import pandas as pd\n",
    "import numpy as np\n",
    "import plotly.express as px\n",
    "import plotly.graph_objects as go\n",
    "import plotly.figure_factory as ff\n",
    "import matplotlib.pyplot as plt\n",
    "from IPython.display import display, HTML\n",
    "\n",
    "from sklearn.model_selection import train_test_split\n",
    "from sklearn.pipeline import Pipeline\n",
    "from sklearn.impute import SimpleImputer\n",
    "from sklearn.preprocessing import StandardScaler, OneHotEncoder\n",
    "from sklearn.compose import ColumnTransformer\n",
    "from sklearn.base import BaseEstimator, TransformerMixin\n",
    "from sklearn import metrics\n",
    "\n",
    "# Hyperparams tuning\n",
    "from sklearn.model_selection import GridSearchCV, ParameterGrid\n",
    "from sklearn_genetic import GASearchCV\n",
    "from sklearn_genetic.space import Continuous, Categorical, Integer\n",
    "\n",
    "# Classifiers\n",
    "from sklearn.linear_model import LogisticRegression\n",
    "from sklearn.ensemble import (RandomForestClassifier, AdaBoostClassifier,\n",
    "                              ExtraTreesClassifier, VotingClassifier)\n",
    "from sklearn.tree import DecisionTreeClassifier\n",
    "from xgboost import XGBClassifier\n",
    "from sklearn.svm import SVC\n",
    "from lightgbm import LGBMClassifier\n",
    "from catboost import CatBoostClassifier\n",
    "from sklearn.neighbors import KNeighborsClassifier\n",
    "from sklearn.neural_network import MLPClassifier\n",
    "np.random.seed(42)"
   ]
  },
  {
   "cell_type": "code",
   "execution_count": 2,
   "id": "43be2063",
   "metadata": {
    "ExecuteTime": {
     "end_time": "2022-10-27T15:29:26.494172Z",
     "start_time": "2022-10-27T15:29:26.472875Z"
    },
    "code_folding": [
     0,
     12,
     30,
     49,
     69,
     85,
     102,
     134,
     148,
     164
    ],
    "hidden": true
   },
   "outputs": [],
   "source": [
    "def basic_descriptives(df):\n",
    "    display(HTML(\"<p>Head:</p>\"))\n",
    "    display(HTML(df.head().to_html()))\n",
    "    display(HTML(\"<p>Summary stats:</p>\"))\n",
    "    display(HTML(df.describe().to_html()))\n",
    "    print(\n",
    "        \"\\nNrows: \", df.shape[0], \"\\n\",\n",
    "        \"\\nNcols: \", df.shape[1], \"\\n\",\n",
    "        \"\\nData types:\\n\", df.dtypes.to_string(), \"\\n\",\n",
    "        sep=''\n",
    "    )\n",
    "    \n",
    "def show_basic_plots(df, vars_subset=None):\n",
    "    # Presets:\n",
    "    if vars_subset is None:\n",
    "        vars_subset = df.columns.tolist()\n",
    "    \n",
    "    color_background = '#F5F5F5'\n",
    "    color_gridlines = '#DCDCDC'\n",
    "    colors_in_use = ['#2C3E50', '#537EA2', '#858F84', '#42A593',\n",
    "                     '#873E23', '#CFD1A1', '#6A744F', '#BDBDC5',\n",
    "                     '#7EA253', '#EDB676', '#C26D40']+px.colors.qualitative.Safe\n",
    "    \n",
    "    dtypes_num = ['int64', 'int32', 'int16', 'float64', 'float32', 'float16']\n",
    "    dtypes_str = ['object', 'category']\n",
    "    vars_num = df.loc[:, vars_subset].select_dtypes(include=dtypes_num).columns\n",
    "    vars_str = df.loc[:, vars_subset].select_dtypes(include=dtypes_str).columns\n",
    "    \n",
    "    # For categorical variables:\n",
    "    fig_str_lst = [None]*len(vars_str)\n",
    "    for i in range(0, len(vars_str)):\n",
    "        fig = go.Figure()\n",
    "        fig.add_trace(go.Histogram(x=df.loc[:, vars_str[i]],\n",
    "                                   name=vars_str[i],\n",
    "                                   showlegend=True))\n",
    "        fig.update_traces(marker_color=colors_in_use[0],\n",
    "                          marker_line_color='rgb(8,48,107)',\n",
    "                          marker_line_width=1.5,\n",
    "                          opacity=0.8)\n",
    "        fig.update_layout(xaxis_type='category',\n",
    "                          xaxis_title=vars_str[i],\n",
    "                          paper_bgcolor=color_background,\n",
    "                          plot_bgcolor=color_background)\n",
    "        fig.update_yaxes(gridcolor=color_gridlines)\n",
    "        fig.update_xaxes(linecolor=color_gridlines)\n",
    "        fig_str_lst[i] = fig\n",
    "        \n",
    "    # For 2 categorical variables:\n",
    "    fig_str_lst_mix = []\n",
    "    for i in range(0, len(vars_str)):\n",
    "        for j in range(0, len(vars_str)):\n",
    "            if i == j:\n",
    "                continue\n",
    "            else:\n",
    "                fig = px.histogram(df, x=vars_str[i], color=vars_str[j],\n",
    "                                   color_discrete_sequence=colors_in_use[1:])\n",
    "                fig.update_traces(marker_line_color='rgb(8,48,107)',\n",
    "                                  marker_line_width=1.5,\n",
    "                                  opacity=0.8)\n",
    "                fig.update_layout(xaxis_type='category',\n",
    "                                  xaxis_title=vars_str[i],\n",
    "                                  paper_bgcolor=color_background,\n",
    "                                  plot_bgcolor=color_background)\n",
    "                fig.update_yaxes(gridcolor=color_gridlines, title='')\n",
    "                fig.update_xaxes(linecolor=color_gridlines)\n",
    "                fig_str_lst_mix.append(fig)\n",
    "            \n",
    "    # For numerical variables:\n",
    "    fig_num_lst_dist = [None]*len(vars_num)\n",
    "    for i in range(0, len(vars_num)):\n",
    "        fig = ff.create_distplot(hist_data=[df[vars_num[i]].dropna()],\n",
    "                                 group_labels=[vars_num[i]],\n",
    "                                 show_hist=False,\n",
    "                                 show_rug=False,\n",
    "                                 colors = colors_in_use)\n",
    "        fig.update_layout(paper_bgcolor=color_background,\n",
    "                              plot_bgcolor=color_background)\n",
    "        fig.update_yaxes(gridcolor=color_gridlines,\n",
    "                         zerolinecolor=color_gridlines,\n",
    "                         title='')\n",
    "        fig.update_xaxes(gridcolor=color_gridlines,\n",
    "                         title=vars_num[i])\n",
    "        fig_num_lst_dist[i] = fig\n",
    "        \n",
    "    fig_num_lst_violin = [None]*len(vars_num)\n",
    "    for i in range(0, len(vars_num)):\n",
    "        fig = px.violin(df, y=vars_num[i], box=True, points='outliers')\n",
    "        fig.update_traces(marker_color = colors_in_use[0],\n",
    "                          opacity=0.8,\n",
    "                          name=vars_num[i],\n",
    "                          showlegend=True)\n",
    "        fig.update_layout(paper_bgcolor=color_background,\n",
    "                          plot_bgcolor=color_background)\n",
    "        fig.update_yaxes(gridcolor=color_gridlines,\n",
    "                         zerolinecolor=color_gridlines,\n",
    "                         title='')\n",
    "        fig.update_xaxes(title=vars_num[i])\n",
    "        fig_num_lst_violin[i] = fig\n",
    "    \n",
    "        # For 2 numerical variables:\n",
    "    fig_num_lst_mix = []\n",
    "    fig_num_lst_scat = []\n",
    "    for i in range(0, len(vars_num)):\n",
    "        for j in range(0, len(vars_num)):\n",
    "            if i == j:\n",
    "                continue\n",
    "            else:\n",
    "                fig = go.Figure()\n",
    "                fig.add_trace(go.Histogram2dContour(x = df[vars_num[i]],\n",
    "                                                        y = df[vars_num[j]],\n",
    "                                                        colorscale='deep'))\n",
    "                fig.update_layout(paper_bgcolor=color_background,\n",
    "                                  plot_bgcolor=color_background)\n",
    "                fig.update_yaxes(title=vars_num[j])\n",
    "                fig.update_xaxes(title=vars_num[i])\n",
    "                fig_num_lst_mix.append(fig)\n",
    "                \n",
    "                fig = px.scatter(data,x=data[vars_num[i]],\n",
    "                                 y=data[vars_num[j]],\n",
    "                                 trendline='ols')\n",
    "                fig.update_layout(paper_bgcolor=color_background,\n",
    "                                  plot_bgcolor=color_background)\n",
    "                fig.update_traces(marker_color=colors_in_use[0],\n",
    "                                  opacity=0.8)\n",
    "                fig.update_yaxes(gridcolor=color_gridlines,\n",
    "                                 zerolinecolor=color_gridlines,\n",
    "                                 title=vars_num[j])\n",
    "                fig.update_xaxes(gridcolor=color_gridlines,\n",
    "                                 zerolinecolor=color_gridlines,\n",
    "                                 title=vars_num[i])\n",
    "                fig_num_lst_scat.append(fig)\n",
    "        \n",
    "    # 1 categorical, 1 numeric:\n",
    "    fig_all_violin_mix = []\n",
    "    for i in range(0, len(vars_str)):\n",
    "        for j in range(0, len(vars_num)):\n",
    "            fig = px.violin(df, y=vars_num[j], color=vars_str[i],\n",
    "                            color_discrete_sequence=colors_in_use,\n",
    "                            box=True, points='outliers')\n",
    "            fig.update_traces(opacity=0.8)\n",
    "            fig.update_layout(xaxis_title=vars_num[j],\n",
    "                              showlegend=True,\n",
    "                              paper_bgcolor=color_background,\n",
    "                              plot_bgcolor=color_background)\n",
    "            fig.update_yaxes(gridcolor=color_gridlines, title='')\n",
    "            fig.update_xaxes(linecolor=color_gridlines)\n",
    "            fig_all_violin_mix.append(fig)\n",
    "            \n",
    "    final_dict = {\n",
    "        # categorical+target\n",
    "        'dist_cat': fig_str_lst,\n",
    "        'dist_mlt_cat': fig_str_lst_mix,\n",
    "        # numeric+target\n",
    "        'dist_num': fig_num_lst_dist,\n",
    "        'violin_num': fig_num_lst_violin,\n",
    "        'scatter_num': fig_num_lst_scat,\n",
    "        'dist_mlt_num': fig_num_lst_mix,\n",
    "        # all\n",
    "        'violin_mix': fig_all_violin_mix\n",
    "        #'scatter_mix': None,\n",
    "        #'dist_mlt_mix': None,\n",
    "    }\n",
    "    return(final_dict) \n",
    "\n",
    "def corr_heatmap(df):\n",
    "    color_background = '#F5F5F5'\n",
    "    color_gridlines = '#DCDCDC'\n",
    "        \n",
    "    fig = px.imshow(df.corr().round(3), text_auto=True, color_continuous_scale='deep')\n",
    "    fig.update_traces(opacity=0.8)\n",
    "    fig.update_layout(\n",
    "        coloraxis_showscale=False,\n",
    "        paper_bgcolor=color_background,\n",
    "        plot_bgcolor=color_background)\n",
    "    fig.update_yaxes(gridcolor=color_gridlines, title='')\n",
    "    fig.update_xaxes(linecolor=color_gridlines)\n",
    "    return(fig)"
   ]
  },
  {
   "cell_type": "code",
   "execution_count": 4,
   "id": "0db0dd77",
   "metadata": {
    "ExecuteTime": {
     "end_time": "2022-10-27T15:29:40.316377Z",
     "start_time": "2022-10-27T15:29:40.305293Z"
    },
    "code_folding": [
     0
    ],
    "hidden": true
   },
   "outputs": [],
   "source": [
    "def show_model_grid_search_cv(model_grid, classifier, name, cv=3):\n",
    "    model_pipeline = Pipeline(\n",
    "        steps=[(\"preprocessor\", preprocessor), (\"classifier\", classifier)]\n",
    "    )\n",
    "    \n",
    "    model_grid_search_cv = GridSearchCV(\n",
    "        estimator = model_pipeline,\n",
    "        param_grid = model_grid,\n",
    "        cv = cv,\n",
    "        n_jobs = -1,\n",
    "        verbose = 2\n",
    "    ).fit(X_train, y_train)\n",
    "    print(\"\\nModel:\", name, \"\\n\")\n",
    "    print(\"Accuracy:\", model_grid_search_cv.best_score_, \"\\n\")\n",
    "    print(\"Best params\", model_grid_search_cv.best_params_, \"\\n\")"
   ]
  },
  {
   "cell_type": "code",
   "execution_count": 23,
   "id": "b664f1e4",
   "metadata": {
    "ExecuteTime": {
     "end_time": "2022-10-28T07:27:14.358654Z",
     "start_time": "2022-10-28T07:27:14.352302Z"
    },
    "code_folding": [
     0
    ],
    "hidden": true
   },
   "outputs": [],
   "source": [
    "def show_model_ga_search_cv(model_grid, classifier, name, cv=10, popsize=50):\n",
    "    model_grid_search_cv = GASearchCV(\n",
    "        estimator=classifier,\n",
    "        cv=cv,\n",
    "        scoring='accuracy',\n",
    "        population_size=popsize,\n",
    "        generations=40,\n",
    "        tournament_size=3,\n",
    "        elitism=True,\n",
    "        crossover_probability=0.8,\n",
    "        mutation_probability=0.1,\n",
    "        param_grid=model_grid,\n",
    "        criteria='max',\n",
    "        algorithm='eaMuPlusLambda',\n",
    "        n_jobs=-1,\n",
    "        verbose=True,\n",
    "        keep_top_k=4\n",
    "    ).fit(X_train, y_train)\n",
    "    print(\"\\nModel:\", name, \"\\n\")\n",
    "    print(\"Accuracy:\", model_grid_search_cv.best_score_, \"\\n\")\n",
    "    print(\"Best params\", model_grid_search_cv.best_params_, \"\\n\")"
   ]
  },
  {
   "cell_type": "code",
   "execution_count": 6,
   "id": "7e8632b3",
   "metadata": {
    "ExecuteTime": {
     "end_time": "2022-10-27T15:29:44.885399Z",
     "start_time": "2022-10-27T15:29:44.871880Z"
    },
    "hidden": true
   },
   "outputs": [],
   "source": [
    "data = pd.read_csv('train.csv')"
   ]
  },
  {
   "cell_type": "markdown",
   "id": "061000c1",
   "metadata": {},
   "source": [
    "# EDA"
   ]
  },
  {
   "cell_type": "markdown",
   "id": "d20def56",
   "metadata": {
    "heading_collapsed": true
   },
   "source": [
    "## Initial"
   ]
  },
  {
   "cell_type": "code",
   "execution_count": 7,
   "id": "951892bd",
   "metadata": {
    "ExecuteTime": {
     "end_time": "2022-10-27T15:29:51.906279Z",
     "start_time": "2022-10-27T15:29:51.879271Z"
    },
    "hidden": true,
    "scrolled": true
   },
   "outputs": [
    {
     "data": {
      "text/html": [
       "<p>Head:</p>"
      ],
      "text/plain": [
       "<IPython.core.display.HTML object>"
      ]
     },
     "metadata": {},
     "output_type": "display_data"
    },
    {
     "data": {
      "text/html": [
       "<table border=\"1\" class=\"dataframe\">\n",
       "  <thead>\n",
       "    <tr style=\"text-align: right;\">\n",
       "      <th></th>\n",
       "      <th>PassengerId</th>\n",
       "      <th>Survived</th>\n",
       "      <th>Pclass</th>\n",
       "      <th>Name</th>\n",
       "      <th>Sex</th>\n",
       "      <th>Age</th>\n",
       "      <th>SibSp</th>\n",
       "      <th>Parch</th>\n",
       "      <th>Ticket</th>\n",
       "      <th>Fare</th>\n",
       "      <th>Cabin</th>\n",
       "      <th>Embarked</th>\n",
       "    </tr>\n",
       "  </thead>\n",
       "  <tbody>\n",
       "    <tr>\n",
       "      <th>0</th>\n",
       "      <td>1</td>\n",
       "      <td>0</td>\n",
       "      <td>3</td>\n",
       "      <td>Braund, Mr. Owen Harris</td>\n",
       "      <td>male</td>\n",
       "      <td>22.0</td>\n",
       "      <td>1</td>\n",
       "      <td>0</td>\n",
       "      <td>A/5 21171</td>\n",
       "      <td>7.2500</td>\n",
       "      <td>NaN</td>\n",
       "      <td>S</td>\n",
       "    </tr>\n",
       "    <tr>\n",
       "      <th>1</th>\n",
       "      <td>2</td>\n",
       "      <td>1</td>\n",
       "      <td>1</td>\n",
       "      <td>Cumings, Mrs. John Bradley (Florence Briggs Thayer)</td>\n",
       "      <td>female</td>\n",
       "      <td>38.0</td>\n",
       "      <td>1</td>\n",
       "      <td>0</td>\n",
       "      <td>PC 17599</td>\n",
       "      <td>71.2833</td>\n",
       "      <td>C85</td>\n",
       "      <td>C</td>\n",
       "    </tr>\n",
       "    <tr>\n",
       "      <th>2</th>\n",
       "      <td>3</td>\n",
       "      <td>1</td>\n",
       "      <td>3</td>\n",
       "      <td>Heikkinen, Miss. Laina</td>\n",
       "      <td>female</td>\n",
       "      <td>26.0</td>\n",
       "      <td>0</td>\n",
       "      <td>0</td>\n",
       "      <td>STON/O2. 3101282</td>\n",
       "      <td>7.9250</td>\n",
       "      <td>NaN</td>\n",
       "      <td>S</td>\n",
       "    </tr>\n",
       "    <tr>\n",
       "      <th>3</th>\n",
       "      <td>4</td>\n",
       "      <td>1</td>\n",
       "      <td>1</td>\n",
       "      <td>Futrelle, Mrs. Jacques Heath (Lily May Peel)</td>\n",
       "      <td>female</td>\n",
       "      <td>35.0</td>\n",
       "      <td>1</td>\n",
       "      <td>0</td>\n",
       "      <td>113803</td>\n",
       "      <td>53.1000</td>\n",
       "      <td>C123</td>\n",
       "      <td>S</td>\n",
       "    </tr>\n",
       "    <tr>\n",
       "      <th>4</th>\n",
       "      <td>5</td>\n",
       "      <td>0</td>\n",
       "      <td>3</td>\n",
       "      <td>Allen, Mr. William Henry</td>\n",
       "      <td>male</td>\n",
       "      <td>35.0</td>\n",
       "      <td>0</td>\n",
       "      <td>0</td>\n",
       "      <td>373450</td>\n",
       "      <td>8.0500</td>\n",
       "      <td>NaN</td>\n",
       "      <td>S</td>\n",
       "    </tr>\n",
       "  </tbody>\n",
       "</table>"
      ],
      "text/plain": [
       "<IPython.core.display.HTML object>"
      ]
     },
     "metadata": {},
     "output_type": "display_data"
    },
    {
     "data": {
      "text/html": [
       "<p>Summary stats:</p>"
      ],
      "text/plain": [
       "<IPython.core.display.HTML object>"
      ]
     },
     "metadata": {},
     "output_type": "display_data"
    },
    {
     "data": {
      "text/html": [
       "<table border=\"1\" class=\"dataframe\">\n",
       "  <thead>\n",
       "    <tr style=\"text-align: right;\">\n",
       "      <th></th>\n",
       "      <th>PassengerId</th>\n",
       "      <th>Survived</th>\n",
       "      <th>Pclass</th>\n",
       "      <th>Age</th>\n",
       "      <th>SibSp</th>\n",
       "      <th>Parch</th>\n",
       "      <th>Fare</th>\n",
       "    </tr>\n",
       "  </thead>\n",
       "  <tbody>\n",
       "    <tr>\n",
       "      <th>count</th>\n",
       "      <td>891.000000</td>\n",
       "      <td>891.000000</td>\n",
       "      <td>891.000000</td>\n",
       "      <td>714.000000</td>\n",
       "      <td>891.000000</td>\n",
       "      <td>891.000000</td>\n",
       "      <td>891.000000</td>\n",
       "    </tr>\n",
       "    <tr>\n",
       "      <th>mean</th>\n",
       "      <td>446.000000</td>\n",
       "      <td>0.383838</td>\n",
       "      <td>2.308642</td>\n",
       "      <td>29.699118</td>\n",
       "      <td>0.523008</td>\n",
       "      <td>0.381594</td>\n",
       "      <td>32.204208</td>\n",
       "    </tr>\n",
       "    <tr>\n",
       "      <th>std</th>\n",
       "      <td>257.353842</td>\n",
       "      <td>0.486592</td>\n",
       "      <td>0.836071</td>\n",
       "      <td>14.526497</td>\n",
       "      <td>1.102743</td>\n",
       "      <td>0.806057</td>\n",
       "      <td>49.693429</td>\n",
       "    </tr>\n",
       "    <tr>\n",
       "      <th>min</th>\n",
       "      <td>1.000000</td>\n",
       "      <td>0.000000</td>\n",
       "      <td>1.000000</td>\n",
       "      <td>0.420000</td>\n",
       "      <td>0.000000</td>\n",
       "      <td>0.000000</td>\n",
       "      <td>0.000000</td>\n",
       "    </tr>\n",
       "    <tr>\n",
       "      <th>25%</th>\n",
       "      <td>223.500000</td>\n",
       "      <td>0.000000</td>\n",
       "      <td>2.000000</td>\n",
       "      <td>20.125000</td>\n",
       "      <td>0.000000</td>\n",
       "      <td>0.000000</td>\n",
       "      <td>7.910400</td>\n",
       "    </tr>\n",
       "    <tr>\n",
       "      <th>50%</th>\n",
       "      <td>446.000000</td>\n",
       "      <td>0.000000</td>\n",
       "      <td>3.000000</td>\n",
       "      <td>28.000000</td>\n",
       "      <td>0.000000</td>\n",
       "      <td>0.000000</td>\n",
       "      <td>14.454200</td>\n",
       "    </tr>\n",
       "    <tr>\n",
       "      <th>75%</th>\n",
       "      <td>668.500000</td>\n",
       "      <td>1.000000</td>\n",
       "      <td>3.000000</td>\n",
       "      <td>38.000000</td>\n",
       "      <td>1.000000</td>\n",
       "      <td>0.000000</td>\n",
       "      <td>31.000000</td>\n",
       "    </tr>\n",
       "    <tr>\n",
       "      <th>max</th>\n",
       "      <td>891.000000</td>\n",
       "      <td>1.000000</td>\n",
       "      <td>3.000000</td>\n",
       "      <td>80.000000</td>\n",
       "      <td>8.000000</td>\n",
       "      <td>6.000000</td>\n",
       "      <td>512.329200</td>\n",
       "    </tr>\n",
       "  </tbody>\n",
       "</table>"
      ],
      "text/plain": [
       "<IPython.core.display.HTML object>"
      ]
     },
     "metadata": {},
     "output_type": "display_data"
    },
    {
     "name": "stdout",
     "output_type": "stream",
     "text": [
      "\n",
      "Nrows: 891\n",
      "\n",
      "Ncols: 12\n",
      "\n",
      "Data types:\n",
      "PassengerId      int64\n",
      "Survived         int64\n",
      "Pclass           int64\n",
      "Name            object\n",
      "Sex             object\n",
      "Age            float64\n",
      "SibSp            int64\n",
      "Parch            int64\n",
      "Ticket          object\n",
      "Fare           float64\n",
      "Cabin           object\n",
      "Embarked        object\n",
      "\n"
     ]
    }
   ],
   "source": [
    "basic_descriptives(data)  "
   ]
  },
  {
   "cell_type": "code",
   "execution_count": 11,
   "id": "232f6f3e",
   "metadata": {
    "ExecuteTime": {
     "end_time": "2022-10-27T15:30:16.356600Z",
     "start_time": "2022-10-27T15:30:16.344163Z"
    },
    "hidden": true
   },
   "outputs": [],
   "source": [
    "tmp = show_basic_plots(data)"
   ]
  },
  {
   "cell_type": "code",
   "execution_count": null,
   "id": "8e98a86e",
   "metadata": {
    "ExecuteTime": {
     "end_time": "2022-10-25T14:47:01.175235Z",
     "start_time": "2022-10-25T14:47:01.160127Z"
    },
    "hidden": true
   },
   "outputs": [],
   "source": [
    "print(tmp.keys()) # options what to show"
   ]
  },
  {
   "cell_type": "code",
   "execution_count": null,
   "id": "64108e6e",
   "metadata": {
    "ExecuteTime": {
     "end_time": "2022-10-25T14:50:30.923977Z",
     "start_time": "2022-10-25T14:50:30.778449Z"
    },
    "hidden": true,
    "scrolled": true
   },
   "outputs": [],
   "source": [
    "for i in tmp['dist_num']: \n",
    "    i.show()\n",
    "del tmp"
   ]
  },
  {
   "cell_type": "markdown",
   "id": "95ffe4f0",
   "metadata": {
    "hidden": true
   },
   "source": [
    "Main technical clues here:\n",
    "- Name, PassengerId are rather unimportant as predictors (or at least it is hard to see some reasons to think so)\n",
    "- Pclass, Survided, Parch, SibSp are actually character variables\n",
    "- Distribuion of Cabins and Tickets are almost unimodal\n",
    "\n",
    "From the analytical perspective:\n",
    "- Most of passangers embarked in S (Southampton)\n",
    "- There were more men than women on the board\n",
    "- Fare have some big outliers\n",
    "- Age have a lot of missings\n",
    "\n",
    "So, recode & drop to explore better:"
   ]
  },
  {
   "cell_type": "markdown",
   "id": "92a036e8",
   "metadata": {
    "heading_collapsed": true
   },
   "source": [
    "## EDA continuation"
   ]
  },
  {
   "cell_type": "code",
   "execution_count": null,
   "id": "073e2b08",
   "metadata": {
    "ExecuteTime": {
     "end_time": "2022-10-25T14:53:58.456950Z",
     "start_time": "2022-10-25T14:53:58.440810Z"
    },
    "hidden": true
   },
   "outputs": [],
   "source": [
    "data_cleared = data.copy()\n",
    "data_cleared['Survived'] = data_cleared.Survived.astype(str)\n",
    "data_cleared['Pclass'] = data_cleared.Pclass.astype(str)\n",
    "data_cleared['SibSp'] = data_cleared.SibSp.astype(str)\n",
    "data_cleared['Parch'] = data_cleared.Parch.astype(str)\n",
    "data_cleared.drop(columns=['PassengerId', 'Cabin', 'Ticket', 'Name'], inplace=True)"
   ]
  },
  {
   "cell_type": "code",
   "execution_count": null,
   "id": "6ebf7a8e",
   "metadata": {
    "ExecuteTime": {
     "end_time": "2022-10-25T14:57:26.108543Z",
     "start_time": "2022-10-25T14:57:26.091866Z"
    },
    "hidden": true
   },
   "outputs": [],
   "source": [
    "data_cleared.head()"
   ]
  },
  {
   "cell_type": "code",
   "execution_count": null,
   "id": "2975292c",
   "metadata": {
    "ExecuteTime": {
     "end_time": "2022-10-25T15:00:54.267221Z",
     "start_time": "2022-10-25T15:00:54.222941Z"
    },
    "hidden": true
   },
   "outputs": [],
   "source": [
    "corr_heatmap(data_cleared)"
   ]
  },
  {
   "cell_type": "code",
   "execution_count": null,
   "id": "601146fe",
   "metadata": {
    "ExecuteTime": {
     "end_time": "2022-10-25T15:04:22.982400Z",
     "start_time": "2022-10-25T15:04:22.937117Z"
    },
    "hidden": true
   },
   "outputs": [],
   "source": [
    "data_corr = data_cleared.copy()\n",
    "data_corr = DataFrameExtended(data_corr)\n",
    "data_corr['Survived'] = data_corr.Survived.astype(np.int64)\n",
    "data_corr['Pclass'] = data_corr.Pclass.astype(np.int64)\n",
    "data_corr['SibSp'] = data_corr.SibSp.astype(np.int64)\n",
    "data_corr['Parch'] = data_corr.Parch.astype(np.int64)\n",
    "corr_heatmap(data_corr)"
   ]
  },
  {
   "cell_type": "code",
   "execution_count": null,
   "id": "4b57aab3",
   "metadata": {
    "ExecuteTime": {
     "end_time": "2022-10-25T15:07:53.639815Z",
     "start_time": "2022-10-25T15:07:51.839058Z"
    },
    "hidden": true,
    "scrolled": true
   },
   "outputs": [],
   "source": [
    "tmp = show_basic_plots(data_cleared)\n",
    "print(data_cleared_plots.keys())"
   ]
  },
  {
   "cell_type": "code",
   "execution_count": null,
   "id": "56330e10",
   "metadata": {
    "ExecuteTime": {
     "end_time": "2022-10-26T14:07:45.666761Z",
     "start_time": "2022-10-26T14:07:45.644751Z"
    },
    "code_folding": [],
    "hidden": true,
    "scrolled": false
   },
   "outputs": [],
   "source": [
    "for i in data_cleared_plots['violin_num']: \n",
    "    i.show()\n",
    "#del tmp"
   ]
  },
  {
   "cell_type": "markdown",
   "id": "be67b484",
   "metadata": {
    "hidden": true
   },
   "source": [
    "Main clues:\n",
    "- Most passengers travelled 3rd class\n",
    "- Mostly, passengers travelled alone (no siblings, spouces) or maximum with 1 spouce/child. Other examples are rather outliers that (maybe) can be grouped\n",
    "- Among the survived, the proportion of women was much bigger. Moreover, the proportion of survation between Pclass also differs\n",
    "- Fare/Age distribution almost uniform\n",
    "- Fare of people survived was bigger\n",
    "- More uniform distribution of Age in the 1st class, mean Age is also upper\n",
    "- Numeric variables are not correlated between each other\n",
    "- Parch & SibSp are pretty much correlated"
   ]
  },
  {
   "cell_type": "markdown",
   "id": "5359febe",
   "metadata": {},
   "source": [
    "# Feature creation / transformation"
   ]
  },
  {
   "cell_type": "markdown",
   "id": "55d92bc7",
   "metadata": {},
   "source": [
    "## Functions"
   ]
  },
  {
   "cell_type": "code",
   "execution_count": 24,
   "id": "721d28a6",
   "metadata": {
    "ExecuteTime": {
     "end_time": "2022-10-28T07:27:22.411734Z",
     "start_time": "2022-10-28T07:27:22.406738Z"
    },
    "code_folding": [
     0,
     14,
     36
    ]
   },
   "outputs": [],
   "source": [
    "def bin_family(size):\n",
    "    family_group = ''\n",
    "    if (size == 1):\n",
    "        family_group = 'alone'\n",
    "    elif (size == 2):\n",
    "        family_group = 'pair'\n",
    "    elif (size == 3):\n",
    "        family_group = 'pair_1_child'\n",
    "    elif (size == 4):\n",
    "        family_group = 'pair_2_child'\n",
    "    else:\n",
    "        family_group = 'large'\n",
    "    return family_group\n",
    "\n",
    "def bin_age(age):\n",
    "    age_group = ''\n",
    "    if age <= 1:\n",
    "        age_group = 'infant'\n",
    "    elif age <= 4: \n",
    "        age_group = 'toddler'\n",
    "    elif age <= 13:\n",
    "        age_group = 'child'\n",
    "    elif age <= 18:\n",
    "        age_group = 'teenager'\n",
    "    elif age <= 35:\n",
    "        age_group = 'young_adult'\n",
    "    elif age <= 45:\n",
    "        age_group = 'adult'\n",
    "    elif age <= 55:\n",
    "        age_group = 'middle_aged'\n",
    "    elif age <= 65:\n",
    "        age_group = 'senior'\n",
    "    else:\n",
    "        age_group = 'very_old'\n",
    "    return age_group\n",
    "\n",
    "def bin_fare(fare):\n",
    "    fare_group = ''\n",
    "    if fare <= 4:\n",
    "        fare_group = 'Very_low'\n",
    "    elif fare <= 10:\n",
    "        fare_group = 'low'\n",
    "    elif fare <= 20:\n",
    "        fare_group = 'mid'\n",
    "    elif fare <= 45:\n",
    "        fare_group = 'high'\n",
    "    else:\n",
    "        fare_group = \"very_high\"\n",
    "    return fare_group"
   ]
  },
  {
   "cell_type": "code",
   "execution_count": 35,
   "id": "6172d51c",
   "metadata": {
    "ExecuteTime": {
     "end_time": "2022-10-28T07:28:52.481257Z",
     "start_time": "2022-10-28T07:28:52.472259Z"
    },
    "code_folding": [
     0
    ]
   },
   "outputs": [],
   "source": [
    "def titanic_transform(X):\n",
    "    name_recoded = X.Name.str.extract(\n",
    "        r'(Mrs|Miss|Lady|Ms|Mme|Mlle|Dona|Mr|Don|Master|Rev|Col|Jonkheer|Dr|Major)'\n",
    "    )\n",
    "    name_recoded = name_recoded.fillna('Officer')\n",
    "    X['Title'] = name_recoded\n",
    "    X['Title'] = X['Title'].str.replace('Ms|Mlle|Lady', 'Miss', regex=True)\n",
    "    X['Title'] = X['Title'].str.replace('Mme|Dona|Countess', 'Mrs', regex=True)\n",
    "    X['Title'] = X['Title'].str.replace('Don|Rev|Sir', 'Mr', regex=True) \n",
    "    X['Title'] = X['Title'].str.replace('Col|Jonkheer|Dr|Major', 'Officer', regex=True)\n",
    "    \n",
    "    \n",
    "    #X['LastName'] = X['Name'].apply(lambda x: str.split(x, ',')[0])\n",
    "    # df['Last_Name'] = df['Name'].apply(lambda x: str.split(x, ',')[0])\n",
    "    # create family survival\n",
    "    # check Age binned with qbin\n",
    "    # check Fare binned with qbin\n",
    "\n",
    "    X['DeckMissing'] = np.where(X['Cabin'].isnull(), 1, 0)\n",
    "    #X['Cabin'].str.extract(r'([A-z])').fillna('Unknown')\n",
    "    X['Embarked'] = X['Embarked'].fillna('S')\n",
    "    \n",
    "    X['AgeMissing'] = np.where(X['Age'].isnull(), 1, 0)\n",
    "    X['Age'].fillna(X['Age'].median(), inplace=True)\n",
    "    X['AgeBin'] = X['Age'].map(bin_age)\n",
    "    \n",
    "    X['FamilySize'] = X['SibSp'] + X['Parch'] + 1\n",
    "    X['FamilyBin'] = X['FamilySize'].map(bin_family)\n",
    "    \n",
    "    X['FarePerFamily'] = X['Fare']/X['FamilySize']\n",
    "    X['FareBin'] = X['FarePerFamily'].map(bin_fare)\n",
    "    \n",
    "    X['Pclass'] = X.Pclass.astype(str)\n",
    "    cols_to_drop = ['Name', 'PassengerId', 'Ticket', 'Cabin',\n",
    "                    'FamilySize', 'Age', 'Fare', 'FarePerFamily', 'SibSp', 'Parch']\n",
    "    X.drop(columns=cols_to_drop, inplace=True)\n",
    "    \n",
    "    \n",
    "    cols_to_dummy = ['Pclass', 'Sex', 'Embarked', 'Title', 'AgeBin', 'FamilyBin', 'FareBin']\n",
    "    X = pd.get_dummies(X, columns=cols_to_dummy, prefix=cols_to_dummy)\n",
    "    \n",
    "    return X"
   ]
  },
  {
   "cell_type": "code",
   "execution_count": 36,
   "id": "62e059e8",
   "metadata": {
    "ExecuteTime": {
     "end_time": "2022-10-28T07:28:52.806337Z",
     "start_time": "2022-10-28T07:28:52.783308Z"
    }
   },
   "outputs": [],
   "source": [
    "X = data.copy()\n",
    "y = X['Survived']\n",
    "X.drop(columns=['Survived'], inplace=True)\n",
    "X = titanic_transform(X)"
   ]
  },
  {
   "cell_type": "code",
   "execution_count": 37,
   "id": "81e7623b",
   "metadata": {
    "ExecuteTime": {
     "end_time": "2022-10-28T07:28:53.101480Z",
     "start_time": "2022-10-28T07:28:53.087426Z"
    }
   },
   "outputs": [],
   "source": [
    "X_train, X_test, y_train, y_test = train_test_split(X, y, test_size=0.2, random_state=0)"
   ]
  },
  {
   "cell_type": "markdown",
   "id": "6e5b48c0",
   "metadata": {},
   "source": [
    "## Visualizations of new variables"
   ]
  },
  {
   "cell_type": "code",
   "execution_count": null,
   "id": "26c01951",
   "metadata": {},
   "outputs": [],
   "source": []
  },
  {
   "cell_type": "markdown",
   "id": "d6ff3227",
   "metadata": {},
   "source": [
    "# Models calibration: GASearch"
   ]
  },
  {
   "cell_type": "markdown",
   "id": "cc46f6f2",
   "metadata": {
    "heading_collapsed": true
   },
   "source": [
    "## Grids"
   ]
  },
  {
   "cell_type": "code",
   "execution_count": 106,
   "id": "135d3d0e",
   "metadata": {
    "ExecuteTime": {
     "end_time": "2022-10-28T13:29:22.565580Z",
     "start_time": "2022-10-28T13:29:22.543683Z"
    },
    "code_folding": [
     0,
     4,
     9,
     14,
     19,
     27,
     35,
     40,
     49,
     59
    ],
    "hidden": true
   },
   "outputs": [],
   "source": [
    "model_grid_ga_logistic = {\n",
    "    'C': Continuous(0.1, 1000, distribution='uniform')\n",
    "}\n",
    "\n",
    "model_grid_ga_logistic_net = {\n",
    "    'C': Continuous(0.1, 1000, distribution='uniform'),\n",
    "    'l1_ratio': Continuous(0, 1, distribution='uniform')\n",
    "}\n",
    "\n",
    "model_grid_ga_knn = {\n",
    "    'n_neighbors': Integer(3, 20),\n",
    "    'leaf_size': Integer(20, 50)\n",
    "}\n",
    "\n",
    "model_grid_ga_svm = {\n",
    "    'C': Continuous(0.1, 1000, distribution='uniform'),\n",
    "    'gamma': Continuous(0.0001, 1, distribution='uniform'),\n",
    "}\n",
    "\n",
    "model_grid_ga_rf = {\n",
    "    'max_depth': Integer(10, 80),\n",
    "    'max_features': Integer(1, 7),\n",
    "    'min_samples_leaf': Integer(1, 7),\n",
    "    'min_samples_split': Integer(2, 10),\n",
    "    'n_estimators': Integer(25, 500)#,\n",
    "}\n",
    "\n",
    "model_grid_ga_extra_trees = {\n",
    "    'max_depth': Integer(10, 80),\n",
    "    'max_features': Integer(1, 7),\n",
    "    'min_samples_leaf': Integer(1, 7),\n",
    "    'min_samples_split': Integer(2, 10),\n",
    "    'n_estimators': Integer(25, 500)#,\n",
    "}\n",
    "\n",
    "model_grid_ga_adaboost = {\n",
    "    \"learning_rate\": Continuous(0.01, 0.50, distribution='uniform'),\n",
    "    \"n_estimators\": Integer(25, 500)\n",
    "}\n",
    "\n",
    "model_grid_ga_xgboost = {\n",
    "    \"subsample\": Continuous(0.75, 1, distribution='uniform'),\n",
    "    \"colsample_bytree\": Continuous(0.75, 1, distribution='uniform'),\n",
    "    \"max_depth\": Integer(2, 16),\n",
    "    \"min_child_weight\": Integer(2, 15),\n",
    "    \"learning_rate\": Continuous(0.01, 0.50, distribution='uniform'),\n",
    "    \"n_estimators\": Integer(25, 500)\n",
    "}\n",
    "\n",
    "model_grid_ga_lgbm = {\n",
    "    \"learning_rate\": Continuous(0.01, 0.50, distribution='uniform'),\n",
    "    \"n_estimators\": Integer(25, 500),\n",
    "    \"num_iterations\": Integer(100, 1000),\n",
    "    \"lambda_l2\": Integer(0, 3),\n",
    "    \"bagging_fraction\": Continuous(0.8, 1, distribution='uniform'),\n",
    "    \"min_data_in_leaf\": Integer(10, 40),\n",
    "    \"num_leaves\": Integer(21, 51),\n",
    "}\n",
    "\n",
    "model_grid_ga_nnet = {\n",
    "    'learning_rate_init': Continuous(0.01, 0.50, distribution='uniform'),\n",
    "    'max_iter': Integer(200, 2000),\n",
    "    'hidden_layer_sizes': Integer(100, 1000)\n",
    "}"
   ]
  },
  {
   "cell_type": "markdown",
   "id": "8fef18a6",
   "metadata": {
    "heading_collapsed": true
   },
   "source": [
    "## Logistic regression"
   ]
  },
  {
   "cell_type": "code",
   "execution_count": 85,
   "id": "405a74da",
   "metadata": {
    "ExecuteTime": {
     "end_time": "2022-10-28T11:49:26.637732Z",
     "start_time": "2022-10-28T11:46:52.704474Z"
    },
    "hidden": true
   },
   "outputs": [
    {
     "name": "stderr",
     "output_type": "stream",
     "text": [
      "C:\\Users\\Yauheni\\AppData\\Local\\Programs\\Python\\Python310\\lib\\site-packages\\sklearn_genetic\\genetic_search.py:303: UserWarning:\n",
      "\n",
      "Warning, only one parameter was provided to the param_grid, the optimization routine might not have effect, it's advised to use at least 2 parameters\n",
      "\n"
     ]
    },
    {
     "name": "stdout",
     "output_type": "stream",
     "text": [
      "gen\tnevals\tfitness \tfitness_std\tfitness_max\tfitness_min\n",
      "0  \t50    \t0.828717\t1.11022e-16\t0.828717   \t0.828717   \n",
      "1  \t89    \t0.828717\t1.11022e-16\t0.828717   \t0.828717   \n",
      "2  \t87    \t0.828717\t1.11022e-16\t0.828717   \t0.828717   \n",
      "3  \t92    \t0.828717\t1.11022e-16\t0.828717   \t0.828717   \n",
      "4  \t94    \t0.828717\t1.11022e-16\t0.828717   \t0.828717   \n",
      "5  \t86    \t0.828717\t1.11022e-16\t0.828717   \t0.828717   \n",
      "6  \t88    \t0.828717\t1.11022e-16\t0.828717   \t0.828717   \n",
      "7  \t85    \t0.828717\t1.11022e-16\t0.828717   \t0.828717   \n",
      "8  \t92    \t0.828717\t1.11022e-16\t0.828717   \t0.828717   \n",
      "9  \t89    \t0.828717\t1.11022e-16\t0.828717   \t0.828717   \n",
      "10 \t91    \t0.828717\t1.11022e-16\t0.828717   \t0.828717   \n",
      "11 \t90    \t0.828717\t1.11022e-16\t0.828717   \t0.828717   \n",
      "12 \t90    \t0.828717\t1.11022e-16\t0.828717   \t0.828717   \n",
      "13 \t95    \t0.828717\t1.11022e-16\t0.828717   \t0.828717   \n",
      "14 \t91    \t0.828717\t1.11022e-16\t0.828717   \t0.828717   \n",
      "15 \t87    \t0.828717\t1.11022e-16\t0.828717   \t0.828717   \n",
      "16 \t92    \t0.828717\t1.11022e-16\t0.828717   \t0.828717   \n",
      "17 \t90    \t0.828717\t1.11022e-16\t0.828717   \t0.828717   \n",
      "18 \t92    \t0.828717\t1.11022e-16\t0.828717   \t0.828717   \n",
      "19 \t90    \t0.828717\t1.11022e-16\t0.828717   \t0.828717   \n",
      "20 \t87    \t0.828717\t1.11022e-16\t0.828717   \t0.828717   \n",
      "21 \t89    \t0.828717\t1.11022e-16\t0.828717   \t0.828717   \n",
      "22 \t88    \t0.828717\t1.11022e-16\t0.828717   \t0.828717   \n",
      "23 \t89    \t0.828717\t1.11022e-16\t0.828717   \t0.828717   \n",
      "24 \t93    \t0.828717\t1.11022e-16\t0.828717   \t0.828717   \n",
      "25 \t89    \t0.828717\t1.11022e-16\t0.828717   \t0.828717   \n",
      "26 \t96    \t0.828717\t1.11022e-16\t0.828717   \t0.828717   \n",
      "27 \t90    \t0.828717\t1.11022e-16\t0.828717   \t0.828717   \n",
      "28 \t88    \t0.828717\t1.11022e-16\t0.828717   \t0.828717   \n",
      "29 \t89    \t0.828717\t1.11022e-16\t0.828717   \t0.828717   \n",
      "30 \t85    \t0.828717\t1.11022e-16\t0.828717   \t0.828717   \n",
      "31 \t88    \t0.828717\t1.11022e-16\t0.828717   \t0.828717   \n",
      "32 \t92    \t0.828717\t1.11022e-16\t0.828717   \t0.828717   \n",
      "33 \t89    \t0.828717\t1.11022e-16\t0.828717   \t0.828717   \n",
      "34 \t86    \t0.828717\t1.11022e-16\t0.828717   \t0.828717   \n",
      "35 \t95    \t0.828717\t1.11022e-16\t0.828717   \t0.828717   \n",
      "36 \t95    \t0.828717\t1.11022e-16\t0.828717   \t0.828717   \n",
      "37 \t92    \t0.828717\t1.11022e-16\t0.828717   \t0.828717   \n",
      "38 \t85    \t0.828717\t1.11022e-16\t0.828717   \t0.828717   \n",
      "39 \t95    \t0.828717\t1.11022e-16\t0.828717   \t0.828717   \n",
      "40 \t82    \t0.828717\t1.11022e-16\t0.828717   \t0.828717   \n",
      "\n",
      "Model: logistic_reg \n",
      "\n",
      "Accuracy: 0.8287167449139281 \n",
      "\n",
      "Best params {'C': 16.22303390757767} \n",
      "\n"
     ]
    },
    {
     "name": "stderr",
     "output_type": "stream",
     "text": [
      "C:\\Users\\Yauheni\\AppData\\Local\\Programs\\Python\\Python310\\lib\\site-packages\\sklearn\\linear_model\\_logistic.py:1113: UserWarning:\n",
      "\n",
      "Setting penalty='none' will ignore the C and l1_ratio parameters\n",
      "\n",
      "C:\\Users\\Yauheni\\AppData\\Local\\Programs\\Python\\Python310\\lib\\site-packages\\sklearn\\linear_model\\_logistic.py:444: ConvergenceWarning:\n",
      "\n",
      "lbfgs failed to converge (status=1):\n",
      "STOP: TOTAL NO. of ITERATIONS REACHED LIMIT.\n",
      "\n",
      "Increase the number of iterations (max_iter) or scale the data as shown in:\n",
      "    https://scikit-learn.org/stable/modules/preprocessing.html\n",
      "Please also refer to the documentation for alternative solver options:\n",
      "    https://scikit-learn.org/stable/modules/linear_model.html#logistic-regression\n",
      "\n"
     ]
    }
   ],
   "source": [
    "show_model_ga_search_cv(model_grid_ga_logistic,\n",
    "                        LogisticRegression(penalty='none'),\n",
    "                        'logistic_reg')"
   ]
  },
  {
   "cell_type": "code",
   "execution_count": 84,
   "id": "3b1bade7",
   "metadata": {
    "ExecuteTime": {
     "end_time": "2022-10-28T11:35:08.628747Z",
     "start_time": "2022-10-28T11:31:06.511878Z"
    },
    "code_folding": [],
    "hidden": true
   },
   "outputs": [
    {
     "name": "stderr",
     "output_type": "stream",
     "text": [
      "C:\\Users\\Yauheni\\AppData\\Local\\Programs\\Python\\Python310\\lib\\site-packages\\deap\\creator.py:138: RuntimeWarning:\n",
      "\n",
      "A class named 'FitnessMax' has already been created and it will be overwritten. Consider deleting previous creation of that class or rename it.\n",
      "\n",
      "C:\\Users\\Yauheni\\AppData\\Local\\Programs\\Python\\Python310\\lib\\site-packages\\deap\\creator.py:138: RuntimeWarning:\n",
      "\n",
      "A class named 'Individual' has already been created and it will be overwritten. Consider deleting previous creation of that class or rename it.\n",
      "\n"
     ]
    },
    {
     "name": "stdout",
     "output_type": "stream",
     "text": [
      "gen\tnevals\tfitness \tfitness_std\tfitness_max\tfitness_min\n",
      "0  \t50    \t0.827363\t0.000272352\t0.828697   \t0.827289   \n",
      "1  \t90    \t0.827392\t0.000329843\t0.828697   \t0.827308   \n",
      "2  \t89    \t0.827614\t0.000575342\t0.828697   \t0.827308   \n",
      "3  \t88    \t0.827781\t0.000657929\t0.828697   \t0.827308   \n",
      "4  \t91    \t0.828281\t0.000636469\t0.828697   \t0.827308   \n",
      "5  \t86    \t0.828669\t0.000194444\t0.828697   \t0.827308   \n",
      "6  \t91    \t0.828697\t1.11022e-16\t0.828697   \t0.828697   \n",
      "7  \t92    \t0.828697\t1.11022e-16\t0.828697   \t0.828697   \n",
      "8  \t94    \t0.828697\t1.11022e-16\t0.828697   \t0.828697   \n",
      "9  \t93    \t0.828697\t1.11022e-16\t0.828697   \t0.828697   \n",
      "10 \t87    \t0.828697\t1.11022e-16\t0.828697   \t0.828697   \n",
      "11 \t88    \t0.828697\t1.11022e-16\t0.828697   \t0.828697   \n",
      "12 \t87    \t0.828697\t1.11022e-16\t0.828697   \t0.828697   \n",
      "13 \t88    \t0.828697\t1.11022e-16\t0.828697   \t0.828697   \n",
      "14 \t88    \t0.828697\t1.11022e-16\t0.828697   \t0.828697   \n",
      "15 \t91    \t0.828697\t1.11022e-16\t0.828697   \t0.828697   \n",
      "16 \t92    \t0.828697\t1.11022e-16\t0.828697   \t0.828697   \n",
      "17 \t95    \t0.828697\t1.11022e-16\t0.828697   \t0.828697   \n",
      "18 \t91    \t0.828697\t1.11022e-16\t0.828697   \t0.828697   \n",
      "19 \t94    \t0.828697\t1.11022e-16\t0.828697   \t0.828697   \n",
      "20 \t87    \t0.828697\t1.11022e-16\t0.828697   \t0.828697   \n",
      "21 \t89    \t0.828697\t1.11022e-16\t0.828697   \t0.828697   \n",
      "22 \t92    \t0.828697\t1.11022e-16\t0.828697   \t0.828697   \n",
      "23 \t87    \t0.828697\t1.11022e-16\t0.828697   \t0.828697   \n",
      "24 \t88    \t0.828697\t1.11022e-16\t0.828697   \t0.828697   \n",
      "25 \t90    \t0.828697\t1.11022e-16\t0.828697   \t0.828697   \n",
      "26 \t92    \t0.828697\t1.11022e-16\t0.828697   \t0.828697   \n",
      "27 \t95    \t0.828697\t1.11022e-16\t0.828697   \t0.828697   \n",
      "28 \t88    \t0.828697\t1.11022e-16\t0.828697   \t0.828697   \n",
      "29 \t89    \t0.828697\t1.11022e-16\t0.828697   \t0.828697   \n",
      "30 \t95    \t0.828697\t1.11022e-16\t0.828697   \t0.828697   \n",
      "31 \t89    \t0.828697\t1.11022e-16\t0.828697   \t0.828697   \n",
      "32 \t95    \t0.828697\t1.11022e-16\t0.828697   \t0.828697   \n",
      "33 \t96    \t0.828697\t1.11022e-16\t0.828697   \t0.828697   \n",
      "34 \t90    \t0.828697\t1.11022e-16\t0.828697   \t0.828697   \n",
      "35 \t91    \t0.828697\t1.11022e-16\t0.828697   \t0.828697   \n",
      "36 \t88    \t0.828697\t1.11022e-16\t0.828697   \t0.828697   \n",
      "37 \t89    \t0.828697\t1.11022e-16\t0.828697   \t0.828697   \n",
      "38 \t90    \t0.828697\t1.11022e-16\t0.828697   \t0.828697   \n",
      "39 \t83    \t0.828697\t1.11022e-16\t0.828697   \t0.828697   \n",
      "40 \t88    \t0.828697\t1.11022e-16\t0.828697   \t0.828697   \n",
      "\n",
      "Model: logistic_reg \n",
      "\n",
      "Accuracy: 0.8286971830985916 \n",
      "\n",
      "Best params {'C': 17.812079224328077, 'l1_ratio': 0.703199784775487} \n",
      "\n"
     ]
    },
    {
     "name": "stderr",
     "output_type": "stream",
     "text": [
      "C:\\Users\\Yauheni\\AppData\\Local\\Programs\\Python\\Python310\\lib\\site-packages\\sklearn\\linear_model\\_sag.py:350: ConvergenceWarning:\n",
      "\n",
      "The max_iter was reached which means the coef_ did not converge\n",
      "\n"
     ]
    }
   ],
   "source": [
    "show_model_ga_search_cv(model_grid_ga_logistic_net,\n",
    "                        LogisticRegression(solver='saga', penalty='elasticnet'),\n",
    "                        'logistic_reg')"
   ]
  },
  {
   "cell_type": "code",
   "execution_count": 72,
   "id": "17bd3543",
   "metadata": {
    "ExecuteTime": {
     "end_time": "2022-10-28T11:27:27.789470Z",
     "start_time": "2022-10-28T11:23:32.223101Z"
    },
    "code_folding": [],
    "hidden": true
   },
   "outputs": [
    {
     "name": "stderr",
     "output_type": "stream",
     "text": [
      "C:\\Users\\Yauheni\\AppData\\Local\\Programs\\Python\\Python310\\lib\\site-packages\\sklearn_genetic\\genetic_search.py:303: UserWarning:\n",
      "\n",
      "Warning, only one parameter was provided to the param_grid, the optimization routine might not have effect, it's advised to use at least 2 parameters\n",
      "\n",
      "C:\\Users\\Yauheni\\AppData\\Local\\Programs\\Python\\Python310\\lib\\site-packages\\deap\\creator.py:138: RuntimeWarning:\n",
      "\n",
      "A class named 'FitnessMax' has already been created and it will be overwritten. Consider deleting previous creation of that class or rename it.\n",
      "\n",
      "C:\\Users\\Yauheni\\AppData\\Local\\Programs\\Python\\Python310\\lib\\site-packages\\deap\\creator.py:138: RuntimeWarning:\n",
      "\n",
      "A class named 'Individual' has already been created and it will be overwritten. Consider deleting previous creation of that class or rename it.\n",
      "\n"
     ]
    },
    {
     "name": "stdout",
     "output_type": "stream",
     "text": [
      "gen\tnevals\tfitness\tfitness_std\tfitness_max\tfitness_min\n",
      "0  \t50    \t0.82728\t0.000199922\t0.827308   \t0.82588    \n",
      "1  \t92    \t0.827308\t1.11022e-16\t0.827308   \t0.827308   \n",
      "2  \t88    \t0.827308\t1.11022e-16\t0.827308   \t0.827308   \n",
      "3  \t90    \t0.827308\t1.11022e-16\t0.827308   \t0.827308   \n",
      "4  \t89    \t0.827308\t1.11022e-16\t0.827308   \t0.827308   \n",
      "5  \t93    \t0.827308\t1.11022e-16\t0.827308   \t0.827308   \n",
      "6  \t88    \t0.827336\t0.000194444\t0.828697   \t0.827308   \n",
      "7  \t87    \t0.827503\t0.000481926\t0.828697   \t0.827308   \n",
      "8  \t94    \t0.827642\t0.000593171\t0.828697   \t0.827308   \n",
      "9  \t90    \t0.828114\t0.000685498\t0.828697   \t0.827308   \n",
      "10 \t88    \t0.828503\t0.000481926\t0.828697   \t0.827308   \n",
      "11 \t91    \t0.828697\t1.11022e-16\t0.828697   \t0.828697   \n",
      "12 \t90    \t0.828697\t1.11022e-16\t0.828697   \t0.828697   \n",
      "13 \t95    \t0.828697\t1.11022e-16\t0.828697   \t0.828697   \n",
      "14 \t93    \t0.828697\t1.11022e-16\t0.828697   \t0.828697   \n",
      "15 \t88    \t0.828697\t1.11022e-16\t0.828697   \t0.828697   \n",
      "16 \t89    \t0.828697\t1.11022e-16\t0.828697   \t0.828697   \n",
      "17 \t88    \t0.828669\t0.000194444\t0.828697   \t0.827308   \n",
      "18 \t94    \t0.828697\t1.11022e-16\t0.828697   \t0.828697   \n",
      "19 \t87    \t0.828697\t1.11022e-16\t0.828697   \t0.828697   \n",
      "20 \t90    \t0.828697\t1.11022e-16\t0.828697   \t0.828697   \n",
      "21 \t95    \t0.828697\t1.11022e-16\t0.828697   \t0.828697   \n",
      "22 \t89    \t0.828697\t1.11022e-16\t0.828697   \t0.828697   \n",
      "23 \t87    \t0.828697\t1.11022e-16\t0.828697   \t0.828697   \n",
      "24 \t94    \t0.828697\t1.11022e-16\t0.828697   \t0.828697   \n",
      "25 \t86    \t0.828697\t1.11022e-16\t0.828697   \t0.828697   \n",
      "26 \t92    \t0.828697\t1.11022e-16\t0.828697   \t0.828697   \n",
      "27 \t88    \t0.828697\t1.11022e-16\t0.828697   \t0.828697   \n",
      "28 \t88    \t0.828697\t1.11022e-16\t0.828697   \t0.828697   \n",
      "29 \t92    \t0.828669\t0.000194444\t0.828697   \t0.827308   \n",
      "30 \t87    \t0.828697\t1.11022e-16\t0.828697   \t0.828697   \n",
      "31 \t87    \t0.828697\t1.11022e-16\t0.828697   \t0.828697   \n",
      "32 \t88    \t0.828697\t1.11022e-16\t0.828697   \t0.828697   \n",
      "33 \t87    \t0.828697\t1.11022e-16\t0.828697   \t0.828697   \n",
      "34 \t91    \t0.828697\t1.11022e-16\t0.828697   \t0.828697   \n",
      "35 \t86    \t0.828697\t1.11022e-16\t0.828697   \t0.828697   \n",
      "36 \t89    \t0.828697\t1.11022e-16\t0.828697   \t0.828697   \n",
      "37 \t95    \t0.828697\t1.11022e-16\t0.828697   \t0.828697   \n",
      "38 \t93    \t0.828697\t1.11022e-16\t0.828697   \t0.828697   \n",
      "39 \t89    \t0.828697\t1.11022e-16\t0.828697   \t0.828697   \n",
      "40 \t88    \t0.828697\t1.11022e-16\t0.828697   \t0.828697   \n",
      "\n",
      "Model: logistic_reg \n",
      "\n",
      "Accuracy: 0.8286971830985916 \n",
      "\n",
      "Best params {'C': 24.741940195859037} \n",
      "\n"
     ]
    },
    {
     "name": "stderr",
     "output_type": "stream",
     "text": [
      "C:\\Users\\Yauheni\\AppData\\Local\\Programs\\Python\\Python310\\lib\\site-packages\\sklearn\\linear_model\\_sag.py:350: ConvergenceWarning:\n",
      "\n",
      "The max_iter was reached which means the coef_ did not converge\n",
      "\n"
     ]
    }
   ],
   "source": [
    "show_model_ga_search_cv(model_grid_ga_logistic,\n",
    "                        LogisticRegression(penalty='l1', solver='saga'),\n",
    "                        'logistic_reg')"
   ]
  },
  {
   "cell_type": "code",
   "execution_count": 64,
   "id": "50b761f4",
   "metadata": {
    "ExecuteTime": {
     "end_time": "2022-10-28T11:16:22.595465Z",
     "start_time": "2022-10-28T11:14:05.646708Z"
    },
    "hidden": true
   },
   "outputs": [
    {
     "name": "stderr",
     "output_type": "stream",
     "text": [
      "C:\\Users\\Yauheni\\AppData\\Local\\Programs\\Python\\Python310\\lib\\site-packages\\sklearn_genetic\\genetic_search.py:303: UserWarning:\n",
      "\n",
      "Warning, only one parameter was provided to the param_grid, the optimization routine might not have effect, it's advised to use at least 2 parameters\n",
      "\n"
     ]
    },
    {
     "name": "stdout",
     "output_type": "stream",
     "text": [
      "gen\tnevals\tfitness \tfitness_std\tfitness_max\tfitness_min\n",
      "0  \t50    \t0.828264\t0.000715424\t0.828717   \t0.82588    \n",
      "1  \t91    \t0.828689\t0.000197183\t0.828717   \t0.827308   \n",
      "2  \t87    \t0.828717\t1.11022e-16\t0.828717   \t0.828717   \n",
      "3  \t93    \t0.828717\t1.11022e-16\t0.828717   \t0.828717   \n",
      "4  \t91    \t0.828717\t1.11022e-16\t0.828717   \t0.828717   \n",
      "5  \t89    \t0.828717\t1.11022e-16\t0.828717   \t0.828717   \n",
      "6  \t88    \t0.828717\t1.11022e-16\t0.828717   \t0.828717   \n",
      "7  \t91    \t0.828717\t1.11022e-16\t0.828717   \t0.828717   \n",
      "8  \t94    \t0.828717\t1.11022e-16\t0.828717   \t0.828717   \n",
      "9  \t87    \t0.828717\t1.11022e-16\t0.828717   \t0.828717   \n",
      "10 \t85    \t0.828717\t1.11022e-16\t0.828717   \t0.828717   \n",
      "11 \t85    \t0.828717\t1.11022e-16\t0.828717   \t0.828717   \n",
      "12 \t92    \t0.828717\t1.11022e-16\t0.828717   \t0.828717   \n",
      "13 \t89    \t0.828717\t1.11022e-16\t0.828717   \t0.828717   \n",
      "14 \t88    \t0.828717\t1.11022e-16\t0.828717   \t0.828717   \n",
      "15 \t87    \t0.828717\t1.11022e-16\t0.828717   \t0.828717   \n",
      "16 \t87    \t0.828717\t1.11022e-16\t0.828717   \t0.828717   \n",
      "17 \t91    \t0.828717\t1.11022e-16\t0.828717   \t0.828717   \n",
      "18 \t86    \t0.828717\t1.11022e-16\t0.828717   \t0.828717   \n",
      "19 \t93    \t0.828717\t1.11022e-16\t0.828717   \t0.828717   \n",
      "20 \t91    \t0.828717\t1.11022e-16\t0.828717   \t0.828717   \n",
      "21 \t90    \t0.828717\t1.11022e-16\t0.828717   \t0.828717   \n",
      "22 \t86    \t0.828717\t1.11022e-16\t0.828717   \t0.828717   \n",
      "23 \t91    \t0.828717\t1.11022e-16\t0.828717   \t0.828717   \n",
      "24 \t88    \t0.828717\t1.11022e-16\t0.828717   \t0.828717   \n",
      "25 \t87    \t0.828717\t1.11022e-16\t0.828717   \t0.828717   \n",
      "26 \t86    \t0.828717\t1.11022e-16\t0.828717   \t0.828717   \n",
      "27 \t87    \t0.828717\t1.11022e-16\t0.828717   \t0.828717   \n",
      "28 \t89    \t0.828717\t1.11022e-16\t0.828717   \t0.828717   \n",
      "29 \t84    \t0.828717\t1.11022e-16\t0.828717   \t0.828717   \n",
      "30 \t94    \t0.828717\t1.11022e-16\t0.828717   \t0.828717   \n",
      "31 \t89    \t0.828717\t1.11022e-16\t0.828717   \t0.828717   \n",
      "32 \t92    \t0.828717\t1.11022e-16\t0.828717   \t0.828717   \n",
      "33 \t88    \t0.828717\t1.11022e-16\t0.828717   \t0.828717   \n",
      "34 \t90    \t0.828717\t1.11022e-16\t0.828717   \t0.828717   \n",
      "35 \t93    \t0.828717\t1.11022e-16\t0.828717   \t0.828717   \n",
      "36 \t93    \t0.828717\t1.11022e-16\t0.828717   \t0.828717   \n",
      "37 \t89    \t0.828717\t1.11022e-16\t0.828717   \t0.828717   \n",
      "38 \t90    \t0.828717\t1.11022e-16\t0.828717   \t0.828717   \n",
      "39 \t91    \t0.828717\t1.11022e-16\t0.828717   \t0.828717   \n",
      "40 \t96    \t0.828717\t1.11022e-16\t0.828717   \t0.828717   \n",
      "\n",
      "Model: logistic_reg \n",
      "\n",
      "Accuracy: 0.8287167449139281 \n",
      "\n",
      "Best params {'C': 917.655513176643} \n",
      "\n"
     ]
    }
   ],
   "source": [
    "show_model_ga_search_cv(model_grid_ga_logistic, LogisticRegression(penalty='l2'), 'logistic_reg')"
   ]
  },
  {
   "cell_type": "markdown",
   "id": "4b06a654",
   "metadata": {
    "heading_collapsed": true
   },
   "source": [
    "## KNN"
   ]
  },
  {
   "cell_type": "code",
   "execution_count": 58,
   "id": "c1ee64fb",
   "metadata": {
    "ExecuteTime": {
     "end_time": "2022-10-28T11:09:58.863000Z",
     "start_time": "2022-10-28T11:06:06.094608Z"
    },
    "hidden": true
   },
   "outputs": [
    {
     "name": "stderr",
     "output_type": "stream",
     "text": [
      "C:\\Users\\Yauheni\\AppData\\Local\\Programs\\Python\\Python310\\lib\\site-packages\\deap\\creator.py:138: RuntimeWarning:\n",
      "\n",
      "A class named 'FitnessMax' has already been created and it will be overwritten. Consider deleting previous creation of that class or rename it.\n",
      "\n",
      "C:\\Users\\Yauheni\\AppData\\Local\\Programs\\Python\\Python310\\lib\\site-packages\\deap\\creator.py:138: RuntimeWarning:\n",
      "\n",
      "A class named 'Individual' has already been created and it will be overwritten. Consider deleting previous creation of that class or rename it.\n",
      "\n"
     ]
    },
    {
     "name": "stdout",
     "output_type": "stream",
     "text": [
      "gen\tnevals\tfitness \tfitness_std\tfitness_max\tfitness_min\n",
      "0  \t50    \t0.802011\t0.00550473 \t0.810407   \t0.790728   \n",
      "1  \t91    \t0.80756 \t0.00235624 \t0.810407   \t0.7991     \n",
      "2  \t91    \t0.809438\t0.00144731 \t0.810407   \t0.806221   \n",
      "3  \t90    \t0.810352\t0.00038615 \t0.810407   \t0.807649   \n",
      "4  \t94    \t0.810407\t1.11022e-16\t0.810407   \t0.810407   \n",
      "5  \t93    \t0.810407\t1.11022e-16\t0.810407   \t0.810407   \n",
      "6  \t90    \t0.810407\t1.11022e-16\t0.810407   \t0.810407   \n",
      "7  \t86    \t0.810407\t1.11022e-16\t0.810407   \t0.810407   \n",
      "8  \t92    \t0.810407\t1.11022e-16\t0.810407   \t0.810407   \n",
      "9  \t89    \t0.810407\t1.11022e-16\t0.810407   \t0.810407   \n",
      "10 \t92    \t0.810407\t1.11022e-16\t0.810407   \t0.810407   \n",
      "11 \t84    \t0.810407\t1.11022e-16\t0.810407   \t0.810407   \n",
      "12 \t92    \t0.810407\t1.11022e-16\t0.810407   \t0.810407   \n",
      "13 \t91    \t0.810407\t1.11022e-16\t0.810407   \t0.810407   \n",
      "14 \t87    \t0.810407\t1.11022e-16\t0.810407   \t0.810407   \n",
      "15 \t91    \t0.810407\t1.11022e-16\t0.810407   \t0.810407   \n",
      "16 \t94    \t0.810407\t1.11022e-16\t0.810407   \t0.810407   \n",
      "17 \t87    \t0.810407\t1.11022e-16\t0.810407   \t0.810407   \n",
      "18 \t94    \t0.810407\t1.11022e-16\t0.810407   \t0.810407   \n",
      "19 \t91    \t0.810407\t1.11022e-16\t0.810407   \t0.810407   \n",
      "20 \t90    \t0.810407\t1.11022e-16\t0.810407   \t0.810407   \n",
      "21 \t88    \t0.810407\t1.11022e-16\t0.810407   \t0.810407   \n",
      "22 \t95    \t0.810407\t1.11022e-16\t0.810407   \t0.810407   \n",
      "23 \t88    \t0.810407\t1.11022e-16\t0.810407   \t0.810407   \n",
      "24 \t94    \t0.810407\t1.11022e-16\t0.810407   \t0.810407   \n",
      "25 \t88    \t0.810407\t1.11022e-16\t0.810407   \t0.810407   \n",
      "26 \t85    \t0.810407\t1.11022e-16\t0.810407   \t0.810407   \n",
      "27 \t95    \t0.810407\t1.11022e-16\t0.810407   \t0.810407   \n",
      "28 \t93    \t0.810407\t1.11022e-16\t0.810407   \t0.810407   \n",
      "29 \t92    \t0.810407\t1.11022e-16\t0.810407   \t0.810407   \n",
      "30 \t89    \t0.810407\t1.11022e-16\t0.810407   \t0.810407   \n",
      "31 \t86    \t0.810407\t1.11022e-16\t0.810407   \t0.810407   \n",
      "32 \t88    \t0.810407\t1.11022e-16\t0.810407   \t0.810407   \n",
      "33 \t94    \t0.810407\t1.11022e-16\t0.810407   \t0.810407   \n",
      "34 \t84    \t0.810407\t1.11022e-16\t0.810407   \t0.810407   \n",
      "35 \t83    \t0.810407\t1.11022e-16\t0.810407   \t0.810407   \n",
      "36 \t90    \t0.810407\t1.11022e-16\t0.810407   \t0.810407   \n",
      "37 \t97    \t0.810407\t1.11022e-16\t0.810407   \t0.810407   \n",
      "38 \t91    \t0.810407\t1.11022e-16\t0.810407   \t0.810407   \n",
      "39 \t87    \t0.810407\t1.11022e-16\t0.810407   \t0.810407   \n",
      "40 \t90    \t0.810407\t1.11022e-16\t0.810407   \t0.810407   \n",
      "\n",
      "Model: knn \n",
      "\n",
      "Accuracy: 0.8104068857589984 \n",
      "\n",
      "Best params {'n_neighbors': 17, 'leaf_size': 23} \n",
      "\n"
     ]
    }
   ],
   "source": [
    "show_model_ga_search_cv(model_grid_ga_knn, KNeighborsClassifier(), 'knn')"
   ]
  },
  {
   "cell_type": "markdown",
   "id": "6cc32a3d",
   "metadata": {
    "heading_collapsed": true
   },
   "source": [
    "## SVM"
   ]
  },
  {
   "cell_type": "code",
   "execution_count": 48,
   "id": "17eb0ec3",
   "metadata": {
    "ExecuteTime": {
     "end_time": "2022-10-28T10:24:50.327745Z",
     "start_time": "2022-10-28T10:14:42.059951Z"
    },
    "hidden": true
   },
   "outputs": [
    {
     "name": "stdout",
     "output_type": "stream",
     "text": [
      "gen\tnevals\tfitness \tfitness_std\tfitness_max\tfitness_min\n",
      "0  \t50    \t0.828736\t2.22045e-16\t0.828736   \t0.828736   \n",
      "1  \t96    \t0.828736\t2.22045e-16\t0.828736   \t0.828736   \n",
      "2  \t91    \t0.828736\t2.22045e-16\t0.828736   \t0.828736   \n",
      "3  \t97    \t0.828736\t2.22045e-16\t0.828736   \t0.828736   \n",
      "4  \t94    \t0.828736\t2.22045e-16\t0.828736   \t0.828736   \n",
      "5  \t91    \t0.828736\t2.22045e-16\t0.828736   \t0.828736   \n",
      "6  \t94    \t0.828736\t2.22045e-16\t0.828736   \t0.828736   \n",
      "7  \t92    \t0.828736\t2.22045e-16\t0.828736   \t0.828736   \n",
      "8  \t91    \t0.828736\t2.22045e-16\t0.828736   \t0.828736   \n",
      "9  \t93    \t0.828736\t2.22045e-16\t0.828736   \t0.828736   \n",
      "10 \t90    \t0.828736\t2.22045e-16\t0.828736   \t0.828736   \n",
      "11 \t89    \t0.828736\t2.22045e-16\t0.828736   \t0.828736   \n",
      "12 \t93    \t0.828736\t2.22045e-16\t0.828736   \t0.828736   \n",
      "13 \t94    \t0.828736\t2.22045e-16\t0.828736   \t0.828736   \n",
      "14 \t92    \t0.828736\t2.22045e-16\t0.828736   \t0.828736   \n",
      "15 \t92    \t0.828736\t2.22045e-16\t0.828736   \t0.828736   \n",
      "16 \t89    \t0.828736\t2.22045e-16\t0.828736   \t0.828736   \n",
      "17 \t97    \t0.828736\t2.22045e-16\t0.828736   \t0.828736   \n",
      "18 \t89    \t0.828736\t2.22045e-16\t0.828736   \t0.828736   \n",
      "19 \t90    \t0.828736\t2.22045e-16\t0.828736   \t0.828736   \n",
      "20 \t87    \t0.828736\t2.22045e-16\t0.828736   \t0.828736   \n",
      "21 \t89    \t0.828736\t2.22045e-16\t0.828736   \t0.828736   \n",
      "22 \t89    \t0.828736\t2.22045e-16\t0.828736   \t0.828736   \n",
      "23 \t89    \t0.828736\t2.22045e-16\t0.828736   \t0.828736   \n",
      "24 \t89    \t0.828736\t2.22045e-16\t0.828736   \t0.828736   \n",
      "25 \t90    \t0.828736\t2.22045e-16\t0.828736   \t0.828736   \n",
      "26 \t89    \t0.828736\t2.22045e-16\t0.828736   \t0.828736   \n",
      "27 \t92    \t0.828736\t2.22045e-16\t0.828736   \t0.828736   \n",
      "28 \t85    \t0.828736\t2.22045e-16\t0.828736   \t0.828736   \n",
      "29 \t87    \t0.828736\t2.22045e-16\t0.828736   \t0.828736   \n",
      "30 \t88    \t0.828736\t2.22045e-16\t0.828736   \t0.828736   \n",
      "31 \t90    \t0.828736\t2.22045e-16\t0.828736   \t0.828736   \n",
      "32 \t97    \t0.828736\t2.22045e-16\t0.828736   \t0.828736   \n",
      "33 \t87    \t0.828736\t2.22045e-16\t0.828736   \t0.828736   \n",
      "34 \t91    \t0.828736\t2.22045e-16\t0.828736   \t0.828736   \n",
      "35 \t89    \t0.828736\t2.22045e-16\t0.828736   \t0.828736   \n",
      "36 \t90    \t0.828736\t2.22045e-16\t0.828736   \t0.828736   \n",
      "37 \t96    \t0.828736\t2.22045e-16\t0.828736   \t0.828736   \n",
      "38 \t91    \t0.828736\t2.22045e-16\t0.828736   \t0.828736   \n",
      "39 \t89    \t0.828736\t2.22045e-16\t0.828736   \t0.828736   \n",
      "40 \t92    \t0.828736\t2.22045e-16\t0.828736   \t0.828736   \n",
      "\n",
      "Model: svm_linear \n",
      "\n",
      "Accuracy: 0.8287363067292646 \n",
      "\n",
      "Best params {'C': 326.70658550096834, 'gamma': 0.7482090936576415} \n",
      "\n"
     ]
    }
   ],
   "source": [
    "show_model_ga_search_cv(model_grid_ga_svm, SVC(kernel='linear'), 'svm_linear')"
   ]
  },
  {
   "cell_type": "code",
   "execution_count": 49,
   "id": "11102452",
   "metadata": {
    "ExecuteTime": {
     "end_time": "2022-10-28T11:02:34.758635Z",
     "start_time": "2022-10-28T10:58:11.678703Z"
    },
    "hidden": true
   },
   "outputs": [
    {
     "name": "stdout",
     "output_type": "stream",
     "text": [
      "gen\tnevals\tfitness\tfitness_std\tfitness_max\tfitness_min\n",
      "0  \t50    \t0.80245\t0.00659638 \t0.8259     \t0.786463   \n",
      "1  \t90    \t0.807931\t0.0044431  \t0.8259     \t0.79779    \n",
      "2  \t91    \t0.809168\t0.00363554 \t0.8259     \t0.801976   \n",
      "3  \t89    \t0.811674\t0.00686683 \t0.834351   \t0.80759    \n",
      "4  \t87    \t0.813196\t0.00807862 \t0.834351   \t0.808998   \n",
      "5  \t94    \t0.816041\t0.00920571 \t0.834351   \t0.808998   \n",
      "6  \t91    \t0.818576\t0.00991533 \t0.834351   \t0.808998   \n",
      "7  \t89    \t0.822773\t0.00912037 \t0.834351   \t0.808998   \n",
      "8  \t93    \t0.828717\t0.00377927 \t0.834351   \t0.8259     \n",
      "9  \t90    \t0.833196\t0.00224806 \t0.834351   \t0.8259     \n",
      "10 \t84    \t0.83421 \t0.000422535\t0.834351   \t0.832942   \n",
      "11 \t87    \t0.834351\t1.11022e-16\t0.834351   \t0.834351   \n",
      "12 \t88    \t0.834351\t1.11022e-16\t0.834351   \t0.834351   \n",
      "13 \t93    \t0.834351\t1.11022e-16\t0.834351   \t0.834351   \n",
      "14 \t97    \t0.834351\t1.11022e-16\t0.834351   \t0.834351   \n",
      "15 \t89    \t0.834351\t1.11022e-16\t0.834351   \t0.834351   \n",
      "16 \t82    \t0.834351\t1.11022e-16\t0.834351   \t0.834351   \n",
      "17 \t89    \t0.834351\t1.11022e-16\t0.834351   \t0.834351   \n",
      "18 \t85    \t0.834351\t1.11022e-16\t0.834351   \t0.834351   \n",
      "19 \t89    \t0.834351\t1.11022e-16\t0.834351   \t0.834351   \n",
      "20 \t90    \t0.834351\t1.11022e-16\t0.834351   \t0.834351   \n",
      "21 \t90    \t0.834351\t1.11022e-16\t0.834351   \t0.834351   \n",
      "22 \t89    \t0.834351\t1.11022e-16\t0.834351   \t0.834351   \n",
      "23 \t92    \t0.834351\t1.11022e-16\t0.834351   \t0.834351   \n",
      "24 \t81    \t0.834351\t1.11022e-16\t0.834351   \t0.834351   \n",
      "25 \t88    \t0.834351\t1.11022e-16\t0.834351   \t0.834351   \n",
      "26 \t95    \t0.834351\t1.11022e-16\t0.834351   \t0.834351   \n",
      "27 \t92    \t0.834351\t1.11022e-16\t0.834351   \t0.834351   \n",
      "28 \t90    \t0.834351\t1.11022e-16\t0.834351   \t0.834351   \n",
      "29 \t88    \t0.834351\t1.11022e-16\t0.834351   \t0.834351   \n",
      "30 \t93    \t0.834351\t1.11022e-16\t0.834351   \t0.834351   \n",
      "31 \t91    \t0.834351\t1.11022e-16\t0.834351   \t0.834351   \n",
      "32 \t93    \t0.834351\t1.11022e-16\t0.834351   \t0.834351   \n",
      "33 \t91    \t0.834351\t1.11022e-16\t0.834351   \t0.834351   \n",
      "34 \t94    \t0.834351\t1.11022e-16\t0.834351   \t0.834351   \n",
      "35 \t92    \t0.834351\t1.11022e-16\t0.834351   \t0.834351   \n",
      "36 \t94    \t0.834351\t1.11022e-16\t0.834351   \t0.834351   \n",
      "37 \t95    \t0.834351\t1.11022e-16\t0.834351   \t0.834351   \n",
      "38 \t92    \t0.834351\t1.11022e-16\t0.834351   \t0.834351   \n",
      "39 \t89    \t0.834351\t1.11022e-16\t0.834351   \t0.834351   \n",
      "40 \t92    \t0.834351\t1.11022e-16\t0.834351   \t0.834351   \n",
      "\n",
      "Model: svm_rbf \n",
      "\n",
      "Accuracy: 0.8343505477308295 \n",
      "\n",
      "Best params {'C': 6.356845279367582, 'gamma': 0.04539011414871614} \n",
      "\n"
     ]
    }
   ],
   "source": [
    "show_model_ga_search_cv(model_grid_ga_svm, SVC(kernel='rbf'), 'svm_rbf')"
   ]
  },
  {
   "cell_type": "markdown",
   "id": "9ca63a52",
   "metadata": {
    "heading_collapsed": true
   },
   "source": [
    "## Random Forest"
   ]
  },
  {
   "cell_type": "code",
   "execution_count": 39,
   "id": "f62be44c",
   "metadata": {
    "ExecuteTime": {
     "end_time": "2022-10-28T07:57:26.950794Z",
     "start_time": "2022-10-28T07:28:57.287856Z"
    },
    "hidden": true
   },
   "outputs": [
    {
     "name": "stderr",
     "output_type": "stream",
     "text": [
      "C:\\Users\\Yauheni\\AppData\\Local\\Programs\\Python\\Python310\\lib\\site-packages\\deap\\creator.py:138: RuntimeWarning:\n",
      "\n",
      "A class named 'FitnessMax' has already been created and it will be overwritten. Consider deleting previous creation of that class or rename it.\n",
      "\n",
      "C:\\Users\\Yauheni\\AppData\\Local\\Programs\\Python\\Python310\\lib\\site-packages\\deap\\creator.py:138: RuntimeWarning:\n",
      "\n",
      "A class named 'Individual' has already been created and it will be overwritten. Consider deleting previous creation of that class or rename it.\n",
      "\n"
     ]
    },
    {
     "name": "stdout",
     "output_type": "stream",
     "text": [
      "gen\tnevals\tfitness \tfitness_std\tfitness_max\tfitness_min\n",
      "0  \t50    \t0.812748\t0.00509    \t0.823005   \t0.797868   \n",
      "1  \t90    \t0.816771\t0.00269815 \t0.823005   \t0.810466   \n",
      "2  \t88    \t0.818093\t0.00251222 \t0.823005   \t0.811894   \n",
      "3  \t90    \t0.818569\t0.0025247  \t0.823005   \t0.811835   \n",
      "4  \t91    \t0.819048\t0.00257088 \t0.823044   \t0.813282   \n",
      "5  \t92    \t0.819894\t0.00256784 \t0.824433   \t0.813322   \n",
      "6  \t92    \t0.820088\t0.00288673 \t0.824433   \t0.813263   \n",
      "7  \t93    \t0.819979\t0.00307164 \t0.824433   \t0.813263   \n",
      "8  \t92    \t0.821189\t0.00245725 \t0.82725    \t0.81608    \n",
      "9  \t89    \t0.820571\t0.00325079 \t0.82725    \t0.813263   \n",
      "10 \t89    \t0.821554\t0.00276856 \t0.82725    \t0.814632   \n",
      "11 \t89    \t0.820682\t0.00302874 \t0.82725    \t0.814574   \n",
      "12 \t87    \t0.820703\t0.00316401 \t0.824433   \t0.814574   \n",
      "13 \t90    \t0.820788\t0.00286526 \t0.824433   \t0.81473    \n",
      "14 \t95    \t0.820618\t0.00334678 \t0.824433   \t0.813224   \n",
      "15 \t94    \t0.821671\t0.0030982  \t0.825822   \t0.813263   \n",
      "16 \t92    \t0.82189 \t0.0027042  \t0.82725    \t0.814593   \n",
      "17 \t91    \t0.822285\t0.00255655 \t0.82725    \t0.814671   \n",
      "18 \t96    \t0.822109\t0.00261281 \t0.82725    \t0.81608    \n",
      "19 \t94    \t0.822775\t0.00308545 \t0.830125   \t0.813204   \n",
      "20 \t86    \t0.823983\t0.00252388 \t0.830125   \t0.817469   \n",
      "21 \t88    \t0.824235\t0.00239314 \t0.830125   \t0.817449   \n",
      "22 \t90    \t0.824688\t0.0023985  \t0.830125   \t0.81743    \n",
      "23 \t95    \t0.825285\t0.00248931 \t0.830125   \t0.820227   \n",
      "24 \t88    \t0.825678\t0.00320017 \t0.830125   \t0.818858   \n",
      "25 \t89    \t0.826267\t0.00340314 \t0.830125   \t0.818838   \n",
      "26 \t87    \t0.827059\t0.0028711  \t0.830125   \t0.820227   \n",
      "27 \t89    \t0.826104\t0.00366812 \t0.830125   \t0.818877   \n",
      "28 \t94    \t0.825178\t0.00381893 \t0.830125   \t0.813282   \n",
      "29 \t94    \t0.826525\t0.00327602 \t0.830125   \t0.818877   \n",
      "30 \t89    \t0.827023\t0.00311554 \t0.830125   \t0.818799   \n",
      "31 \t88    \t0.826802\t0.00314949 \t0.830125   \t0.820207   \n",
      "32 \t85    \t0.827397\t0.0026758  \t0.830125   \t0.821655   \n",
      "33 \t89    \t0.826128\t0.00295245 \t0.830125   \t0.817469   \n",
      "34 \t91    \t0.825622\t0.00305703 \t0.830125   \t0.817469   \n",
      "35 \t94    \t0.825764\t0.00279373 \t0.830125   \t0.820246   \n",
      "36 \t85    \t0.826469\t0.00322356 \t0.830125   \t0.816021   \n",
      "37 \t92    \t0.827764\t0.00280473 \t0.830125   \t0.818877   \n",
      "38 \t94    \t0.827826\t0.00278171 \t0.830125   \t0.820227   \n",
      "39 \t89    \t0.827234\t0.00313689 \t0.830125   \t0.820227   \n",
      "40 \t84    \t0.826919\t0.00318637 \t0.830125   \t0.820266   \n",
      "\n",
      "Model: random_forest \n",
      "\n",
      "Accuracy: 0.8301251956181535 \n",
      "\n",
      "Best params {'max_depth': 33, 'max_features': 2, 'min_samples_leaf': 1, 'min_samples_split': 5, 'n_estimators': 222} \n",
      "\n"
     ]
    }
   ],
   "source": [
    "show_model_ga_search_cv(model_grid_ga_rf, RandomForestClassifier(), 'random_forest')"
   ]
  },
  {
   "cell_type": "markdown",
   "id": "e3a2a7e3",
   "metadata": {
    "heading_collapsed": true
   },
   "source": [
    "## Extra trees"
   ]
  },
  {
   "cell_type": "code",
   "execution_count": 88,
   "id": "616e362c",
   "metadata": {
    "ExecuteTime": {
     "end_time": "2022-10-28T12:23:59.290520Z",
     "start_time": "2022-10-28T11:55:46.586150Z"
    },
    "hidden": true
   },
   "outputs": [
    {
     "name": "stdout",
     "output_type": "stream",
     "text": [
      "gen\tnevals\tfitness \tfitness_std\tfitness_max\tfitness_min\n",
      "0  \t50    \t0.811575\t0.00458875 \t0.818916   \t0.79779    \n",
      "1  \t91    \t0.814591\t0.00298448 \t0.818916   \t0.806182   \n",
      "2  \t87    \t0.816817\t0.00204961 \t0.820246   \t0.811835   \n",
      "3  \t88    \t0.81811 \t0.00156795 \t0.823083   \t0.814632   \n",
      "4  \t85    \t0.818701\t0.00157765 \t0.823083   \t0.814632   \n",
      "5  \t91    \t0.81901 \t0.0019478  \t0.823083   \t0.814652   \n",
      "6  \t87    \t0.819516\t0.0015899  \t0.823083   \t0.81608    \n",
      "7  \t93    \t0.819544\t0.00219758 \t0.823103   \t0.813263   \n",
      "8  \t93    \t0.819319\t0.00278453 \t0.823103   \t0.811854   \n",
      "9  \t86    \t0.820305\t0.00238099 \t0.823103   \t0.813224   \n",
      "10 \t87    \t0.820673\t0.00240656 \t0.823103   \t0.816041   \n",
      "11 \t85    \t0.8207  \t0.00245801 \t0.823103   \t0.814652   \n",
      "12 \t92    \t0.820953\t0.00217031 \t0.823103   \t0.81606    \n",
      "13 \t92    \t0.820953\t0.00238225 \t0.823103   \t0.816021   \n",
      "14 \t87    \t0.821321\t0.00264457 \t0.824511   \t0.814652   \n",
      "15 \t90    \t0.820702\t0.00311838 \t0.824511   \t0.813243   \n",
      "16 \t92    \t0.82039 \t0.00296894 \t0.824511   \t0.814671   \n",
      "17 \t88    \t0.821065\t0.00258922 \t0.824511   \t0.816041   \n",
      "18 \t83    \t0.821999\t0.00241536 \t0.824511   \t0.814632   \n",
      "19 \t93    \t0.821211\t0.00307006 \t0.824511   \t0.814652   \n",
      "20 \t91    \t0.821857\t0.00239022 \t0.824511   \t0.814652   \n",
      "21 \t94    \t0.821464\t0.00234792 \t0.824511   \t0.814671   \n",
      "22 \t87    \t0.821376\t0.0023515  \t0.824511   \t0.814652   \n",
      "23 \t91    \t0.821319\t0.00242558 \t0.824511   \t0.814671   \n",
      "24 \t90    \t0.821634\t0.00240672 \t0.824511   \t0.814652   \n",
      "25 \t87    \t0.821828\t0.0020421  \t0.823103   \t0.816021   \n",
      "26 \t88    \t0.820953\t0.00248205 \t0.823103   \t0.816041   \n",
      "27 \t88    \t0.821007\t0.00226146 \t0.823103   \t0.81606    \n",
      "28 \t87    \t0.820894\t0.00265915 \t0.823103   \t0.813263   \n",
      "29 \t93    \t0.821204\t0.00228467 \t0.823103   \t0.816041   \n",
      "30 \t89    \t0.820615\t0.00246552 \t0.823103   \t0.814632   \n",
      "31 \t93    \t0.821069\t0.00244221 \t0.823103   \t0.816041   \n",
      "32 \t95    \t0.821152\t0.00226995 \t0.823103   \t0.814632   \n",
      "33 \t92    \t0.821378\t0.00239352 \t0.823103   \t0.814652   \n",
      "34 \t89    \t0.821318\t0.00254946 \t0.823103   \t0.816041   \n",
      "35 \t90    \t0.821655\t0.0021202  \t0.823103   \t0.816041   \n",
      "36 \t88    \t0.821377\t0.00229689 \t0.823103   \t0.817449   \n",
      "37 \t86    \t0.82166 \t0.00221358 \t0.823103   \t0.816041   \n",
      "38 \t88    \t0.821572\t0.0022913  \t0.824472   \t0.816041   \n",
      "39 \t95    \t0.821431\t0.0025194  \t0.824491   \t0.814652   \n",
      "40 \t89    \t0.820839\t0.00250296 \t0.824491   \t0.814671   \n",
      "\n",
      "Model: extra_trees \n",
      "\n",
      "Accuracy: 0.8258998435054773 \n",
      "\n",
      "Best params {'max_depth': 58, 'max_features': 5, 'min_samples_leaf': 7, 'min_samples_split': 3, 'n_estimators': 69} \n",
      "\n"
     ]
    }
   ],
   "source": [
    "show_model_ga_search_cv(model_grid_ga_extra_trees, ExtraTreesClassifier(), 'extra_trees')"
   ]
  },
  {
   "cell_type": "markdown",
   "id": "ad474927",
   "metadata": {
    "heading_collapsed": true
   },
   "source": [
    "## AdaBoost"
   ]
  },
  {
   "cell_type": "code",
   "execution_count": 92,
   "id": "88977fed",
   "metadata": {
    "ExecuteTime": {
     "end_time": "2022-10-28T13:04:27.590722Z",
     "start_time": "2022-10-28T12:25:43.188453Z"
    },
    "hidden": true
   },
   "outputs": [
    {
     "name": "stdout",
     "output_type": "stream",
     "text": [
      "gen\tnevals\tfitness \tfitness_std\tfitness_max\tfitness_min\n",
      "0  \t50    \t0.821097\t0.00340737 \t0.830106   \t0.81606    \n",
      "1  \t94    \t0.82357 \t0.00265787 \t0.830106   \t0.817488   \n",
      "2  \t87    \t0.825426\t0.00223941 \t0.830106   \t0.821674   \n",
      "3  \t92    \t0.82638 \t0.00225638 \t0.831514   \t0.821674   \n",
      "4  \t86    \t0.828065\t0.00261864 \t0.831514   \t0.821674   \n",
      "5  \t90    \t0.829355\t0.00224723 \t0.831514   \t0.821674   \n",
      "6  \t94    \t0.829493\t0.00266627 \t0.831514   \t0.821674   \n",
      "7  \t88    \t0.831064\t0.000713559\t0.831514   \t0.828717   \n",
      "8  \t92    \t0.831149\t0.00217307 \t0.831514   \t0.81606    \n",
      "9  \t86    \t0.831514\t0          \t0.831514   \t0.831514   \n",
      "10 \t86    \t0.831514\t0          \t0.831514   \t0.831514   \n",
      "11 \t89    \t0.831514\t0          \t0.831514   \t0.831514   \n",
      "12 \t91    \t0.831514\t0          \t0.831514   \t0.831514   \n",
      "13 \t87    \t0.831514\t0          \t0.831514   \t0.831514   \n",
      "14 \t92    \t0.831514\t0          \t0.831514   \t0.831514   \n",
      "15 \t94    \t0.831514\t0          \t0.831514   \t0.831514   \n",
      "16 \t90    \t0.831514\t0          \t0.831514   \t0.831514   \n",
      "17 \t86    \t0.831514\t0          \t0.831514   \t0.831514   \n",
      "18 \t88    \t0.831514\t0          \t0.831514   \t0.831514   \n",
      "19 \t94    \t0.831514\t0          \t0.831514   \t0.831514   \n",
      "20 \t89    \t0.831514\t0          \t0.831514   \t0.831514   \n",
      "21 \t96    \t0.831514\t0          \t0.831514   \t0.831514   \n",
      "22 \t88    \t0.831514\t0          \t0.831514   \t0.831514   \n",
      "23 \t94    \t0.831514\t0          \t0.831514   \t0.831514   \n",
      "24 \t89    \t0.831514\t0          \t0.831514   \t0.831514   \n",
      "27 \t89    \t0.831514\t0          \t0.831514   \t0.831514   \n",
      "\n",
      "sklearn-genetic-opt closed prematurely. Will use the current best model.\n",
      "INFO: Stopping the algorithm\n",
      "\n",
      "Model: adaboost \n",
      "\n",
      "Accuracy: 0.8315140845070422 \n",
      "\n",
      "Best params {'learning_rate': 0.0376033061216275, 'n_estimators': 237} \n",
      "\n"
     ]
    }
   ],
   "source": [
    "#show_model_ga_search_cv(model_grid_ga_adaboost, AdaBoostClassifier(), \"adaboost\")"
   ]
  },
  {
   "cell_type": "markdown",
   "id": "ec45199b",
   "metadata": {
    "hidden": true
   },
   "source": [
    "pretty time-consuming"
   ]
  },
  {
   "cell_type": "markdown",
   "id": "b0bbec7b",
   "metadata": {
    "heading_collapsed": true
   },
   "source": [
    "## xgboost"
   ]
  },
  {
   "cell_type": "code",
   "execution_count": 42,
   "id": "1f2c072f",
   "metadata": {
    "ExecuteTime": {
     "end_time": "2022-10-28T08:16:33.268944Z",
     "start_time": "2022-10-28T08:06:56.010357Z"
    },
    "hidden": true
   },
   "outputs": [
    {
     "name": "stderr",
     "output_type": "stream",
     "text": [
      "C:\\Users\\Yauheni\\AppData\\Local\\Programs\\Python\\Python310\\lib\\site-packages\\deap\\creator.py:138: RuntimeWarning:\n",
      "\n",
      "A class named 'FitnessMax' has already been created and it will be overwritten. Consider deleting previous creation of that class or rename it.\n",
      "\n",
      "C:\\Users\\Yauheni\\AppData\\Local\\Programs\\Python\\Python310\\lib\\site-packages\\deap\\creator.py:138: RuntimeWarning:\n",
      "\n",
      "A class named 'Individual' has already been created and it will be overwritten. Consider deleting previous creation of that class or rename it.\n",
      "\n"
     ]
    },
    {
     "name": "stdout",
     "output_type": "stream",
     "text": [
      "gen\tnevals\tfitness \tfitness_std\tfitness_max\tfitness_min\n",
      "0  \t50    \t0.809142\t0.00588586 \t0.820305   \t0.794894   \n",
      "1  \t85    \t0.813752\t0.00368218 \t0.821596   \t0.806221   \n",
      "2  \t92    \t0.816063\t0.00269351 \t0.821596   \t0.810446   \n",
      "3  \t91    \t0.818011\t0.00271812 \t0.827308   \t0.813282   \n",
      "4  \t92    \t0.818445\t0.00284205 \t0.827308   \t0.813263   \n",
      "5  \t91    \t0.819008\t0.00252252 \t0.827308   \t0.811835   \n",
      "6  \t91    \t0.820316\t0.00346716 \t0.831534   \t0.811854   \n",
      "7  \t91    \t0.82361 \t0.0048598  \t0.832923   \t0.81608    \n",
      "8  \t90    \t0.826969\t0.00474934 \t0.832923   \t0.818858   \n",
      "9  \t93    \t0.830573\t0.00244402 \t0.832923   \t0.823103   \n",
      "10 \t87    \t0.831558\t0.00117912 \t0.832923   \t0.824452   \n",
      "11 \t87    \t0.832061\t0.000674148\t0.832923   \t0.831534   \n",
      "12 \t85    \t0.832589\t0.000593171\t0.832923   \t0.831534   \n",
      "13 \t86    \t0.832727\t0.000685552\t0.832923   \t0.828717   \n",
      "14 \t92    \t0.832867\t0.000272166\t0.832923   \t0.831534   \n",
      "15 \t87    \t0.832923\t0          \t0.832923   \t0.832923   \n",
      "16 \t88    \t0.832951\t0.000197183\t0.834331   \t0.832923   \n",
      "17 \t91    \t0.832951\t0.000197183\t0.834331   \t0.832923   \n",
      "18 \t89    \t0.832923\t0.000279741\t0.834331   \t0.831534   \n",
      "19 \t90    \t0.833007\t0.000334489\t0.834331   \t0.832923   \n",
      "20 \t90    \t0.833063\t0.000422535\t0.834331   \t0.832923   \n",
      "21 \t94    \t0.833401\t0.000667195\t0.834331   \t0.832923   \n",
      "22 \t97    \t0.833712\t0.000752615\t0.834331   \t0.831534   \n",
      "23 \t89    \t0.834134\t0.000488714\t0.834331   \t0.832923   \n",
      "24 \t90    \t0.834331\t1.11022e-16\t0.834331   \t0.834331   \n",
      "25 \t91    \t0.834331\t1.11022e-16\t0.834331   \t0.834331   \n",
      "26 \t94    \t0.834331\t1.11022e-16\t0.834331   \t0.834331   \n",
      "27 \t89    \t0.834331\t1.11022e-16\t0.834331   \t0.834331   \n",
      "28 \t92    \t0.834331\t1.11022e-16\t0.834331   \t0.834331   \n",
      "29 \t89    \t0.834331\t1.11022e-16\t0.834331   \t0.834331   \n",
      "30 \t92    \t0.834331\t1.11022e-16\t0.834331   \t0.834331   \n",
      "31 \t90    \t0.834331\t1.11022e-16\t0.834331   \t0.834331   \n",
      "32 \t88    \t0.834331\t1.11022e-16\t0.834331   \t0.834331   \n",
      "33 \t87    \t0.834331\t1.11022e-16\t0.834331   \t0.834331   \n",
      "34 \t90    \t0.834331\t1.11022e-16\t0.834331   \t0.834331   \n",
      "35 \t94    \t0.834331\t1.11022e-16\t0.834331   \t0.834331   \n",
      "36 \t88    \t0.834331\t1.11022e-16\t0.834331   \t0.834331   \n",
      "37 \t89    \t0.834331\t1.11022e-16\t0.834331   \t0.834331   \n",
      "38 \t94    \t0.834331\t1.11022e-16\t0.834331   \t0.834331   \n",
      "39 \t86    \t0.834331\t1.11022e-16\t0.834331   \t0.834331   \n",
      "40 \t95    \t0.834331\t1.11022e-16\t0.834331   \t0.834331   \n",
      "\n",
      "Model: xgboost \n",
      "\n",
      "Accuracy: 0.834330985915493 \n",
      "\n",
      "Best params {'subsample': 0.816261607081251, 'colsample_bytree': 0.8565208459725928, 'max_depth': 2, 'min_child_weight': 2, 'learning_rate': 0.017752334965135397, 'n_estimators': 178} \n",
      "\n"
     ]
    }
   ],
   "source": [
    "show_model_ga_search_cv(model_grid_ga_xgboost, XGBClassifier(), 'xgboost')"
   ]
  },
  {
   "cell_type": "markdown",
   "id": "63320f1d",
   "metadata": {
    "heading_collapsed": true
   },
   "source": [
    "## lightGBM"
   ]
  },
  {
   "cell_type": "code",
   "execution_count": 44,
   "id": "35a913ae",
   "metadata": {
    "ExecuteTime": {
     "end_time": "2022-10-28T10:04:49.967754Z",
     "start_time": "2022-10-28T09:26:42.774864Z"
    },
    "hidden": true
   },
   "outputs": [
    {
     "name": "stderr",
     "output_type": "stream",
     "text": [
      "C:\\Users\\Yauheni\\AppData\\Local\\Programs\\Python\\Python310\\lib\\site-packages\\deap\\creator.py:138: RuntimeWarning:\n",
      "\n",
      "A class named 'FitnessMax' has already been created and it will be overwritten. Consider deleting previous creation of that class or rename it.\n",
      "\n",
      "C:\\Users\\Yauheni\\AppData\\Local\\Programs\\Python\\Python310\\lib\\site-packages\\deap\\creator.py:138: RuntimeWarning:\n",
      "\n",
      "A class named 'Individual' has already been created and it will be overwritten. Consider deleting previous creation of that class or rename it.\n",
      "\n"
     ]
    },
    {
     "name": "stdout",
     "output_type": "stream",
     "text": [
      "gen\tnevals\tfitness \tfitness_std\tfitness_max\tfitness_min\n",
      "0  \t50    \t0.808228\t0.00719228 \t0.823103   \t0.794894   \n",
      "1  \t89    \t0.812807\t0.00575651 \t0.823103   \t0.803345   \n",
      "2  \t90    \t0.819108\t0.00474662 \t0.827269   \t0.80757    \n",
      "3  \t92    \t0.822481\t0.00362311 \t0.830125   \t0.813224   \n",
      "4  \t93    \t0.824137\t0.00249851 \t0.828658   \t0.814671   \n",
      "5  \t92    \t0.825914\t0.00195957 \t0.828678   \t0.823024   \n",
      "6  \t92    \t0.826844\t0.00211983 \t0.828678   \t0.81741    \n",
      "7  \t87    \t0.827038\t0.00349932 \t0.828678   \t0.810426   \n",
      "8  \t93    \t0.827486\t0.00347349 \t0.828678   \t0.810426   \n",
      "9  \t93    \t0.828578\t0.000430713\t0.828678   \t0.82588    \n",
      "10 \t92    \t0.828664\t9.12512e-06\t0.828678   \t0.828658   \n",
      "11 \t91    \t0.828669\t9.6549e-06 \t0.828678   \t0.828658   \n",
      "12 \t86    \t0.828478\t0.00119732 \t0.828678   \t0.820207   \n",
      "13 \t87    \t0.828678\t1.11022e-16\t0.828678   \t0.828678   \n",
      "14 \t95    \t0.828678\t1.11022e-16\t0.828678   \t0.828678   \n",
      "15 \t86    \t0.828678\t1.11022e-16\t0.828678   \t0.828678   \n",
      "16 \t88    \t0.828678\t1.11022e-16\t0.828678   \t0.828678   \n",
      "17 \t92    \t0.828678\t1.11022e-16\t0.828678   \t0.828678   \n",
      "18 \t91    \t0.828678\t1.11022e-16\t0.828678   \t0.828678   \n",
      "19 \t87    \t0.828678\t1.11022e-16\t0.828678   \t0.828678   \n",
      "20 \t83    \t0.828678\t1.11022e-16\t0.828678   \t0.828678   \n",
      "21 \t90    \t0.828678\t1.11022e-16\t0.828678   \t0.828678   \n",
      "22 \t89    \t0.828678\t1.11022e-16\t0.828678   \t0.828678   \n",
      "23 \t91    \t0.828678\t1.11022e-16\t0.828678   \t0.828678   \n",
      "24 \t88    \t0.828678\t1.11022e-16\t0.828678   \t0.828678   \n",
      "25 \t93    \t0.828678\t1.11022e-16\t0.828678   \t0.828678   \n",
      "28 \t89    \t0.828678\t1.11022e-16\t0.828678   \t0.828678   \n",
      "\n",
      "sklearn-genetic-opt closed prematurely. Will use the current best model.\n",
      "INFO: Stopping the algorithm\n"
     ]
    },
    {
     "name": "stderr",
     "output_type": "stream",
     "text": [
      "C:\\Users\\Yauheni\\AppData\\Local\\Programs\\Python\\Python310\\lib\\site-packages\\lightgbm\\engine.py:177: UserWarning:\n",
      "\n",
      "Found `num_iterations` in params. Will use it instead of argument\n",
      "\n"
     ]
    },
    {
     "name": "stdout",
     "output_type": "stream",
     "text": [
      "[LightGBM] [Warning] min_data_in_leaf is set=20, min_child_samples=20 will be ignored. Current value: min_data_in_leaf=20\n",
      "[LightGBM] [Warning] bagging_fraction is set=0.8174185533591544, subsample=1.0 will be ignored. Current value: bagging_fraction=0.8174185533591544\n",
      "[LightGBM] [Warning] lambda_l2 is set=3, reg_lambda=0.0 will be ignored. Current value: lambda_l2=3\n",
      "\n",
      "Model: light_gbm \n",
      "\n",
      "Accuracy: 0.8301251956181532 \n",
      "\n",
      "Best params {'learning_rate': 0.010766901543821723, 'n_estimators': 282, 'num_iterations': 876, 'lambda_l2': 3, 'bagging_fraction': 0.8174185533591544, 'min_data_in_leaf': 20, 'num_leaves': 37} \n",
      "\n"
     ]
    }
   ],
   "source": [
    "show_model_ga_search_cv(model_grid_ga_lgbm, LGBMClassifier(boosting_type='dart'), 'light_gbm')"
   ]
  },
  {
   "cell_type": "code",
   "execution_count": 46,
   "id": "e7085b89",
   "metadata": {
    "ExecuteTime": {
     "end_time": "2022-10-28T10:11:59.723124Z",
     "start_time": "2022-10-28T10:07:07.000273Z"
    },
    "hidden": true,
    "scrolled": true
   },
   "outputs": [
    {
     "name": "stderr",
     "output_type": "stream",
     "text": [
      "C:\\Users\\Yauheni\\AppData\\Local\\Programs\\Python\\Python310\\lib\\site-packages\\deap\\creator.py:138: RuntimeWarning:\n",
      "\n",
      "A class named 'FitnessMax' has already been created and it will be overwritten. Consider deleting previous creation of that class or rename it.\n",
      "\n",
      "C:\\Users\\Yauheni\\AppData\\Local\\Programs\\Python\\Python310\\lib\\site-packages\\deap\\creator.py:138: RuntimeWarning:\n",
      "\n",
      "A class named 'Individual' has already been created and it will be overwritten. Consider deleting previous creation of that class or rename it.\n",
      "\n"
     ]
    },
    {
     "name": "stdout",
     "output_type": "stream",
     "text": [
      "gen\tnevals\tfitness \tfitness_std\tfitness_max\tfitness_min\n",
      "0  \t50    \t0.800436\t0.0084322  \t0.821635   \t0.787911   \n",
      "1  \t90    \t0.808866\t0.00636555 \t0.821635   \t0.794953   \n",
      "2  \t90    \t0.813703\t0.00415456 \t0.821635   \t0.803365   \n",
      "3  \t90    \t0.817477\t0.00305386 \t0.823083   \t0.813165   \n",
      "4  \t94    \t0.819958\t0.00285629 \t0.82588    \t0.814613   \n",
      "5  \t85    \t0.822127\t0.00269901 \t0.827289   \t0.814613   \n",
      "6  \t85    \t0.824304\t0.0020826  \t0.827289   \t0.817449   \n",
      "7  \t90    \t0.825686\t0.00108586 \t0.827289   \t0.821674   \n",
      "8  \t91    \t0.826473\t0.000799263\t0.827289   \t0.824491   \n",
      "9  \t86    \t0.826894\t0.000632393\t0.827289   \t0.82588    \n",
      "10 \t88    \t0.827289\t1.11022e-16\t0.827289   \t0.827289   \n",
      "11 \t92    \t0.827289\t1.11022e-16\t0.827289   \t0.827289   \n",
      "12 \t92    \t0.827289\t1.11022e-16\t0.827289   \t0.827289   \n",
      "13 \t93    \t0.827289\t1.11022e-16\t0.827289   \t0.827289   \n",
      "14 \t86    \t0.827289\t1.11022e-16\t0.827289   \t0.827289   \n",
      "15 \t92    \t0.827289\t1.11022e-16\t0.827289   \t0.827289   \n",
      "16 \t93    \t0.827289\t1.11022e-16\t0.827289   \t0.827289   \n",
      "17 \t86    \t0.827289\t1.11022e-16\t0.827289   \t0.827289   \n",
      "18 \t86    \t0.827289\t1.11022e-16\t0.827289   \t0.827289   \n",
      "19 \t88    \t0.827289\t1.11022e-16\t0.827289   \t0.827289   \n",
      "20 \t86    \t0.827289\t1.11022e-16\t0.827289   \t0.827289   \n",
      "21 \t88    \t0.827289\t1.11022e-16\t0.827289   \t0.827289   \n",
      "22 \t90    \t0.827289\t1.11022e-16\t0.827289   \t0.827289   \n",
      "23 \t90    \t0.827289\t1.11022e-16\t0.827289   \t0.827289   \n",
      "24 \t89    \t0.827289\t1.11022e-16\t0.827289   \t0.827289   \n",
      "25 \t86    \t0.827289\t1.11022e-16\t0.827289   \t0.827289   \n",
      "26 \t86    \t0.827289\t1.11022e-16\t0.827289   \t0.827289   \n",
      "27 \t90    \t0.827289\t1.11022e-16\t0.827289   \t0.827289   \n",
      "28 \t89    \t0.827289\t1.11022e-16\t0.827289   \t0.827289   \n",
      "29 \t89    \t0.827289\t1.11022e-16\t0.827289   \t0.827289   \n",
      "30 \t90    \t0.827289\t1.11022e-16\t0.827289   \t0.827289   \n",
      "31 \t88    \t0.827289\t1.11022e-16\t0.827289   \t0.827289   \n",
      "32 \t87    \t0.827289\t1.11022e-16\t0.827289   \t0.827289   \n",
      "33 \t93    \t0.827289\t1.11022e-16\t0.827289   \t0.827289   \n",
      "34 \t94    \t0.827289\t1.11022e-16\t0.827289   \t0.827289   \n",
      "35 \t87    \t0.827289\t1.11022e-16\t0.827289   \t0.827289   \n",
      "36 \t88    \t0.827289\t1.11022e-16\t0.827289   \t0.827289   \n",
      "37 \t85    \t0.827289\t1.11022e-16\t0.827289   \t0.827289   \n",
      "38 \t93    \t0.827289\t1.11022e-16\t0.827289   \t0.827289   \n",
      "39 \t93    \t0.827289\t1.11022e-16\t0.827289   \t0.827289   \n",
      "40 \t88    \t0.827289\t1.11022e-16\t0.827289   \t0.827289   \n",
      "\n",
      "Model: light_gbm \n",
      "\n",
      "Accuracy: 0.8272887323943662 \n",
      "\n",
      "Best params {'learning_rate': 0.015956818023919538, 'n_estimators': 488, 'num_iterations': 131, 'lambda_l2': 2, 'bagging_fraction': 0.8314652560003657, 'min_data_in_leaf': 24, 'num_leaves': 43} \n",
      "\n"
     ]
    },
    {
     "name": "stderr",
     "output_type": "stream",
     "text": [
      "C:\\Users\\Yauheni\\AppData\\Local\\Programs\\Python\\Python310\\lib\\site-packages\\lightgbm\\engine.py:177: UserWarning:\n",
      "\n",
      "Found `num_iterations` in params. Will use it instead of argument\n",
      "\n"
     ]
    }
   ],
   "source": [
    "show_model_ga_search_cv(model_grid_ga_lgbm, LGBMClassifier(boosting_type='gbdt'), 'light_gbm')"
   ]
  },
  {
   "cell_type": "markdown",
   "id": "e2c1ef97",
   "metadata": {},
   "source": [
    "## NNET"
   ]
  },
  {
   "cell_type": "code",
   "execution_count": 119,
   "id": "4f7fc839",
   "metadata": {
    "ExecuteTime": {
     "end_time": "2022-10-29T09:51:17.482696Z",
     "start_time": "2022-10-29T08:53:24.206740Z"
    }
   },
   "outputs": [
    {
     "name": "stderr",
     "output_type": "stream",
     "text": [
      "C:\\Users\\Yauheni\\AppData\\Local\\Programs\\Python\\Python310\\lib\\site-packages\\deap\\creator.py:138: RuntimeWarning:\n",
      "\n",
      "A class named 'FitnessMax' has already been created and it will be overwritten. Consider deleting previous creation of that class or rename it.\n",
      "\n",
      "C:\\Users\\Yauheni\\AppData\\Local\\Programs\\Python\\Python310\\lib\\site-packages\\deap\\creator.py:138: RuntimeWarning:\n",
      "\n",
      "A class named 'Individual' has already been created and it will be overwritten. Consider deleting previous creation of that class or rename it.\n",
      "\n"
     ]
    },
    {
     "name": "stdout",
     "output_type": "stream",
     "text": [
      "gen\tnevals\tfitness \tfitness_std\tfitness_max\tfitness_min\n",
      "0  \t50    \t0.796898\t0.00835422 \t0.813204   \t0.77813    \n",
      "1  \t90    \t0.802733\t0.00551564 \t0.813204   \t0.788048   \n",
      "2  \t86    \t0.807564\t0.00550082 \t0.823142   \t0.7893     \n",
      "3  \t94    \t0.808262\t0.00610343 \t0.823142   \t0.79511    \n",
      "4  \t92    \t0.810047\t0.00746986 \t0.823142   \t0.788009   \n",
      "5  \t89    \t0.810717\t0.00703664 \t0.823142   \t0.788009   \n",
      "6  \t93    \t0.813029\t0.00695653 \t0.823142   \t0.799218   \n",
      "7  \t91    \t0.812185\t0.00830172 \t0.823142   \t0.792156   \n",
      "8  \t91    \t0.815236\t0.00703466 \t0.823142   \t0.797868   \n",
      "9  \t95    \t0.816138\t0.00784926 \t0.823142   \t0.793545   \n",
      "10 \t91    \t0.817822\t0.00622713 \t0.825939   \t0.803482   \n",
      "11 \t92    \t0.817262\t0.00654253 \t0.8259     \t0.803365   \n",
      "12 \t83    \t0.818773\t0.00606083 \t0.8259     \t0.799159   \n",
      "13 \t93    \t0.817281\t0.00776736 \t0.827308   \t0.79644    \n",
      "14 \t88    \t0.819605\t0.00603253 \t0.827308   \t0.804773   \n",
      "15 \t89    \t0.818987\t0.00733472 \t0.827308   \t0.799178   \n",
      "16 \t91    \t0.819811\t0.00669861 \t0.827308   \t0.801937   \n",
      "17 \t91    \t0.820264\t0.00579257 \t0.827308   \t0.800489   \n",
      "18 \t88    \t0.817365\t0.00839006 \t0.827308   \t0.796381   \n",
      "19 \t87    \t0.817845\t0.00853391 \t0.827308   \t0.793603   \n",
      "20 \t91    \t0.819797\t0.00732319 \t0.827308   \t0.800567   \n",
      "21 \t95    \t0.818955\t0.00879073 \t0.827308   \t0.799218   \n",
      "22 \t93    \t0.814657\t0.00946697 \t0.827308   \t0.79644    \n",
      "23 \t89    \t0.815865\t0.00948675 \t0.827308   \t0.79775    \n",
      "24 \t92    \t0.816229\t0.00770985 \t0.827308   \t0.800626   \n",
      "25 \t96    \t0.81736 \t0.00785486 \t0.827308   \t0.799198   \n",
      "26 \t87    \t0.818355\t0.0080319  \t0.827308   \t0.796459   \n",
      "27 \t89    \t0.818284\t0.00942631 \t0.827308   \t0.79779    \n",
      "28 \t87    \t0.820446\t0.00860734 \t0.827308   \t0.79779    \n",
      "29 \t92    \t0.817464\t0.00901428 \t0.827308   \t0.796322   \n",
      "30 \t87    \t0.815692\t0.00871601 \t0.827308   \t0.7991     \n",
      "31 \t91    \t0.814716\t0.00967789 \t0.827308   \t0.789397   \n",
      "32 \t93    \t0.81623 \t0.00823941 \t0.827308   \t0.793662   \n",
      "33 \t93    \t0.816066\t0.00798662 \t0.827308   \t0.793662   \n",
      "34 \t93    \t0.815234\t0.00742085 \t0.827308   \t0.797868   \n",
      "35 \t87    \t0.81584 \t0.00799322 \t0.827308   \t0.79777    \n",
      "36 \t95    \t0.815895\t0.00760764 \t0.827308   \t0.79777    \n",
      "37 \t87    \t0.817021\t0.00613791 \t0.827308   \t0.803423   \n",
      "38 \t87    \t0.817422\t0.0085998  \t0.830086   \t0.794992   \n",
      "39 \t89    \t0.819496\t0.00901416 \t0.830106   \t0.793662   \n",
      "40 \t84    \t0.818174\t0.00892814 \t0.830106   \t0.800626   \n",
      "\n",
      "Model: nnet \n",
      "\n",
      "Accuracy: 0.8301056338028168 \n",
      "\n",
      "Best params {'learning_rate_init': 0.35447928985863714, 'max_iter': 1643, 'hidden_layer_sizes': 332} \n",
      "\n"
     ]
    }
   ],
   "source": [
    "show_model_ga_search_cv(model_grid_ga_nnet,\n",
    "                        MLPClassifier(learning_rate='invscaling'),\n",
    "                        'nnet')"
   ]
  },
  {
   "cell_type": "code",
   "execution_count": 120,
   "id": "817f86a8",
   "metadata": {
    "ExecuteTime": {
     "end_time": "2022-10-29T11:38:18.418367Z",
     "start_time": "2022-10-29T09:57:50.088935Z"
    }
   },
   "outputs": [
    {
     "name": "stdout",
     "output_type": "stream",
     "text": [
      "gen\tnevals\tfitness \tfitness_std\tfitness_max\tfitness_min\n",
      "0  \t50    \t0.796768\t0.0110448  \t0.832942   \t0.765532   \n",
      "1  \t91    \t0.802444\t0.00785906 \t0.832942   \t0.790826   \n",
      "2  \t88    \t0.805655\t0.00737293 \t0.832942   \t0.796342   \n",
      "3  \t92    \t0.805726\t0.00634879 \t0.832942   \t0.790806   \n",
      "4  \t85    \t0.809351\t0.00708984 \t0.832942   \t0.799159   \n",
      "5  \t89    \t0.810555\t0.00823491 \t0.832942   \t0.786581   \n",
      "6  \t86    \t0.81543 \t0.00969156 \t0.832942   \t0.799198   \n",
      "7  \t90    \t0.817166\t0.0103342  \t0.832942   \t0.799257   \n",
      "8  \t87    \t0.81927 \t0.0098839  \t0.832942   \t0.804773   \n",
      "9  \t93    \t0.817966\t0.00781265 \t0.832942   \t0.804832   \n",
      "10 \t87    \t0.819156\t0.00986549 \t0.832942   \t0.800606   \n",
      "11 \t94    \t0.817183\t0.0101856  \t0.832942   \t0.794992   \n",
      "12 \t88    \t0.815897\t0.0105446  \t0.832942   \t0.797809   \n",
      "13 \t90    \t0.81463 \t0.0102775  \t0.832942   \t0.797731   \n",
      "14 \t87    \t0.818547\t0.0102567  \t0.832942   \t0.800626   \n",
      "15 \t90    \t0.817334\t0.0115275  \t0.832942   \t0.796342   \n",
      "16 \t94    \t0.818795\t0.0127544  \t0.832942   \t0.795051   \n",
      "17 \t96    \t0.815561\t0.0120006  \t0.832942   \t0.796401   \n",
      "18 \t91    \t0.815498\t0.0109568  \t0.832942   \t0.795012   \n",
      "19 \t97    \t0.816512\t0.0112301  \t0.832942   \t0.799139   \n",
      "20 \t90    \t0.821804\t0.0121294  \t0.832942   \t0.801995   \n",
      "21 \t90    \t0.825127\t0.0111118  \t0.832942   \t0.792117   \n",
      "22 \t92    \t0.823617\t0.0116411  \t0.832942   \t0.792214   \n",
      "23 \t90    \t0.823504\t0.012563   \t0.832942   \t0.792214   \n",
      "24 \t87    \t0.820241\t0.0130816  \t0.832942   \t0.790767   \n"
     ]
    },
    {
     "name": "stderr",
     "output_type": "stream",
     "text": [
      "C:\\Users\\Yauheni\\AppData\\Local\\Programs\\Python\\Python310\\lib\\site-packages\\joblib\\externals\\loky\\process_executor.py:702: UserWarning:\n",
      "\n",
      "A worker stopped while some jobs were given to the executor. This can be caused by a too short worker timeout or by a memory leak.\n",
      "\n"
     ]
    },
    {
     "name": "stdout",
     "output_type": "stream",
     "text": [
      "25 \t95    \t0.8215  \t0.0129336  \t0.832942   \t0.794953   \n",
      "26 \t89    \t0.825094\t0.00988623 \t0.832942   \t0.80757    \n",
      "28 \t91    \t0.820931\t0.0118421  \t0.832942   \t0.79777    \n",
      "\n",
      "sklearn-genetic-opt closed prematurely. Will use the current best model.\n",
      "INFO: Stopping the algorithm\n",
      "\n",
      "Model: nnet \n",
      "\n",
      "Accuracy: 0.832942097026604 \n",
      "\n",
      "Best params {'learning_rate_init': 0.3215659511077361, 'max_iter': 1011, 'hidden_layer_sizes': 764} \n",
      "\n"
     ]
    }
   ],
   "source": [
    "show_model_ga_search_cv(model_grid_ga_nnet,\n",
    "                        MLPClassifier(learning_rate='constant'),\n",
    "                        'nnet')"
   ]
  },
  {
   "cell_type": "code",
   "execution_count": 122,
   "id": "5af12d5d",
   "metadata": {
    "ExecuteTime": {
     "end_time": "2022-10-29T11:39:43.090866Z",
     "start_time": "2022-10-29T11:39:43.084279Z"
    }
   },
   "outputs": [],
   "source": [
    "show_model_ga_search_cv(model_grid_ga_nnet,\n",
    "                        MLPClassifier(learning_rate='adaptive'),\n",
    "                        'nnet')"
   ]
  },
  {
   "cell_type": "markdown",
   "id": "5c85d96d",
   "metadata": {},
   "source": [
    "## Results"
   ]
  },
  {
   "cell_type": "markdown",
   "id": "7d960dba",
   "metadata": {},
   "source": [
    "the best models are xgboost, svm"
   ]
  },
  {
   "cell_type": "markdown",
   "id": "7fd88a26",
   "metadata": {},
   "source": [
    "## Ensembling best models"
   ]
  },
  {
   "cell_type": "code",
   "execution_count": 113,
   "id": "ce71c3cc",
   "metadata": {
    "ExecuteTime": {
     "end_time": "2022-10-29T08:47:48.625039Z",
     "start_time": "2022-10-29T08:47:48.551021Z"
    }
   },
   "outputs": [
    {
     "name": "stdout",
     "output_type": "stream",
     "text": [
      "best xgb\n"
     ]
    }
   ],
   "source": [
    "best_grid = {\n",
    "    'subsample': 0.816261607081251,\n",
    "    'colsample_bytree': 0.8565208459725928,\n",
    "    'max_depth': 2,\n",
    "    'min_child_weight': 2,\n",
    "    'learning_rate': 0.017752334965135397,\n",
    "    'n_estimators': 178\n",
    "}\n",
    "model_xgb = XGBClassifier()\n",
    "model_xgb.fit(X, y)\n",
    "print('best xgb')"
   ]
  },
  {
   "cell_type": "code",
   "execution_count": 114,
   "id": "40ef7f24",
   "metadata": {
    "ExecuteTime": {
     "end_time": "2022-10-29T08:47:50.619649Z",
     "start_time": "2022-10-29T08:47:50.598029Z"
    }
   },
   "outputs": [
    {
     "name": "stdout",
     "output_type": "stream",
     "text": [
      "best svc\n"
     ]
    }
   ],
   "source": [
    "best_grid = {\n",
    "    'C': 326.70658550096834,\n",
    "    'gamma': 0.7482090936576415\n",
    "}\n",
    "model_svc = SVC(kernel='rbf')\n",
    "model_svc.fit(X, y)\n",
    "print('best svc')"
   ]
  },
  {
   "cell_type": "code",
   "execution_count": 115,
   "id": "e67f4910",
   "metadata": {
    "ExecuteTime": {
     "end_time": "2022-10-29T08:47:54.599600Z",
     "start_time": "2022-10-29T08:47:54.478039Z"
    }
   },
   "outputs": [
    {
     "data": {
      "text/html": [
       "<style>#sk-container-id-3 {color: black;background-color: white;}#sk-container-id-3 pre{padding: 0;}#sk-container-id-3 div.sk-toggleable {background-color: white;}#sk-container-id-3 label.sk-toggleable__label {cursor: pointer;display: block;width: 100%;margin-bottom: 0;padding: 0.3em;box-sizing: border-box;text-align: center;}#sk-container-id-3 label.sk-toggleable__label-arrow:before {content: \"▸\";float: left;margin-right: 0.25em;color: #696969;}#sk-container-id-3 label.sk-toggleable__label-arrow:hover:before {color: black;}#sk-container-id-3 div.sk-estimator:hover label.sk-toggleable__label-arrow:before {color: black;}#sk-container-id-3 div.sk-toggleable__content {max-height: 0;max-width: 0;overflow: hidden;text-align: left;background-color: #f0f8ff;}#sk-container-id-3 div.sk-toggleable__content pre {margin: 0.2em;color: black;border-radius: 0.25em;background-color: #f0f8ff;}#sk-container-id-3 input.sk-toggleable__control:checked~div.sk-toggleable__content {max-height: 200px;max-width: 100%;overflow: auto;}#sk-container-id-3 input.sk-toggleable__control:checked~label.sk-toggleable__label-arrow:before {content: \"▾\";}#sk-container-id-3 div.sk-estimator input.sk-toggleable__control:checked~label.sk-toggleable__label {background-color: #d4ebff;}#sk-container-id-3 div.sk-label input.sk-toggleable__control:checked~label.sk-toggleable__label {background-color: #d4ebff;}#sk-container-id-3 input.sk-hidden--visually {border: 0;clip: rect(1px 1px 1px 1px);clip: rect(1px, 1px, 1px, 1px);height: 1px;margin: -1px;overflow: hidden;padding: 0;position: absolute;width: 1px;}#sk-container-id-3 div.sk-estimator {font-family: monospace;background-color: #f0f8ff;border: 1px dotted black;border-radius: 0.25em;box-sizing: border-box;margin-bottom: 0.5em;}#sk-container-id-3 div.sk-estimator:hover {background-color: #d4ebff;}#sk-container-id-3 div.sk-parallel-item::after {content: \"\";width: 100%;border-bottom: 1px solid gray;flex-grow: 1;}#sk-container-id-3 div.sk-label:hover label.sk-toggleable__label {background-color: #d4ebff;}#sk-container-id-3 div.sk-serial::before {content: \"\";position: absolute;border-left: 1px solid gray;box-sizing: border-box;top: 0;bottom: 0;left: 50%;z-index: 0;}#sk-container-id-3 div.sk-serial {display: flex;flex-direction: column;align-items: center;background-color: white;padding-right: 0.2em;padding-left: 0.2em;position: relative;}#sk-container-id-3 div.sk-item {position: relative;z-index: 1;}#sk-container-id-3 div.sk-parallel {display: flex;align-items: stretch;justify-content: center;background-color: white;position: relative;}#sk-container-id-3 div.sk-item::before, #sk-container-id-3 div.sk-parallel-item::before {content: \"\";position: absolute;border-left: 1px solid gray;box-sizing: border-box;top: 0;bottom: 0;left: 50%;z-index: -1;}#sk-container-id-3 div.sk-parallel-item {display: flex;flex-direction: column;z-index: 1;position: relative;background-color: white;}#sk-container-id-3 div.sk-parallel-item:first-child::after {align-self: flex-end;width: 50%;}#sk-container-id-3 div.sk-parallel-item:last-child::after {align-self: flex-start;width: 50%;}#sk-container-id-3 div.sk-parallel-item:only-child::after {width: 0;}#sk-container-id-3 div.sk-dashed-wrapped {border: 1px dashed gray;margin: 0 0.4em 0.5em 0.4em;box-sizing: border-box;padding-bottom: 0.4em;background-color: white;}#sk-container-id-3 div.sk-label label {font-family: monospace;font-weight: bold;display: inline-block;line-height: 1.2em;}#sk-container-id-3 div.sk-label-container {text-align: center;}#sk-container-id-3 div.sk-container {/* jupyter's `normalize.less` sets `[hidden] { display: none; }` but bootstrap.min.css set `[hidden] { display: none !important; }` so we also need the `!important` here to be able to override the default hidden behavior on the sphinx rendered scikit-learn.org. See: https://github.com/scikit-learn/scikit-learn/issues/21755 */display: inline-block !important;position: relative;}#sk-container-id-3 div.sk-text-repr-fallback {display: none;}</style><div id=\"sk-container-id-3\" class=\"sk-top-container\"><div class=\"sk-text-repr-fallback\"><pre>VotingClassifier(estimators=[(&#x27;xgb&#x27;,\n",
       "                              XGBClassifier(base_score=0.5, booster=&#x27;gbtree&#x27;,\n",
       "                                            callbacks=None, colsample_bylevel=1,\n",
       "                                            colsample_bynode=1,\n",
       "                                            colsample_bytree=1,\n",
       "                                            early_stopping_rounds=None,\n",
       "                                            enable_categorical=False,\n",
       "                                            eval_metric=None, gamma=0,\n",
       "                                            gpu_id=-1, grow_policy=&#x27;depthwise&#x27;,\n",
       "                                            importance_type=None,\n",
       "                                            interaction_constraints=&#x27;&#x27;,\n",
       "                                            learning_rate=0.300000012,\n",
       "                                            max_bin=256, max_cat_to_onehot=4,\n",
       "                                            max_delta_step=0, max_depth=6,\n",
       "                                            max_leaves=0, min_child_weight=1,\n",
       "                                            missing=nan,\n",
       "                                            monotone_constraints=&#x27;()&#x27;,\n",
       "                                            n_estimators=100, n_jobs=0,\n",
       "                                            num_parallel_tree=1,\n",
       "                                            predictor=&#x27;auto&#x27;, random_state=0,\n",
       "                                            reg_alpha=0, reg_lambda=1, ...)),\n",
       "                             (&#x27;svc&#x27;, SVC())])</pre><b>In a Jupyter environment, please rerun this cell to show the HTML representation or trust the notebook. <br />On GitHub, the HTML representation is unable to render, please try loading this page with nbviewer.org.</b></div><div class=\"sk-container\" hidden><div class=\"sk-item sk-dashed-wrapped\"><div class=\"sk-label-container\"><div class=\"sk-label sk-toggleable\"><input class=\"sk-toggleable__control sk-hidden--visually\" id=\"sk-estimator-id-3\" type=\"checkbox\" ><label for=\"sk-estimator-id-3\" class=\"sk-toggleable__label sk-toggleable__label-arrow\">VotingClassifier</label><div class=\"sk-toggleable__content\"><pre>VotingClassifier(estimators=[(&#x27;xgb&#x27;,\n",
       "                              XGBClassifier(base_score=0.5, booster=&#x27;gbtree&#x27;,\n",
       "                                            callbacks=None, colsample_bylevel=1,\n",
       "                                            colsample_bynode=1,\n",
       "                                            colsample_bytree=1,\n",
       "                                            early_stopping_rounds=None,\n",
       "                                            enable_categorical=False,\n",
       "                                            eval_metric=None, gamma=0,\n",
       "                                            gpu_id=-1, grow_policy=&#x27;depthwise&#x27;,\n",
       "                                            importance_type=None,\n",
       "                                            interaction_constraints=&#x27;&#x27;,\n",
       "                                            learning_rate=0.300000012,\n",
       "                                            max_bin=256, max_cat_to_onehot=4,\n",
       "                                            max_delta_step=0, max_depth=6,\n",
       "                                            max_leaves=0, min_child_weight=1,\n",
       "                                            missing=nan,\n",
       "                                            monotone_constraints=&#x27;()&#x27;,\n",
       "                                            n_estimators=100, n_jobs=0,\n",
       "                                            num_parallel_tree=1,\n",
       "                                            predictor=&#x27;auto&#x27;, random_state=0,\n",
       "                                            reg_alpha=0, reg_lambda=1, ...)),\n",
       "                             (&#x27;svc&#x27;, SVC())])</pre></div></div></div><div class=\"sk-parallel\"><div class=\"sk-parallel-item\"><div class=\"sk-item\"><div class=\"sk-label-container\"><div class=\"sk-label sk-toggleable\"><label>xgb</label></div></div><div class=\"sk-serial\"><div class=\"sk-item\"><div class=\"sk-estimator sk-toggleable\"><input class=\"sk-toggleable__control sk-hidden--visually\" id=\"sk-estimator-id-4\" type=\"checkbox\" ><label for=\"sk-estimator-id-4\" class=\"sk-toggleable__label sk-toggleable__label-arrow\">XGBClassifier</label><div class=\"sk-toggleable__content\"><pre>XGBClassifier(base_score=0.5, booster=&#x27;gbtree&#x27;, callbacks=None,\n",
       "              colsample_bylevel=1, colsample_bynode=1, colsample_bytree=1,\n",
       "              early_stopping_rounds=None, enable_categorical=False,\n",
       "              eval_metric=None, gamma=0, gpu_id=-1, grow_policy=&#x27;depthwise&#x27;,\n",
       "              importance_type=None, interaction_constraints=&#x27;&#x27;,\n",
       "              learning_rate=0.300000012, max_bin=256, max_cat_to_onehot=4,\n",
       "              max_delta_step=0, max_depth=6, max_leaves=0, min_child_weight=1,\n",
       "              missing=nan, monotone_constraints=&#x27;()&#x27;, n_estimators=100,\n",
       "              n_jobs=0, num_parallel_tree=1, predictor=&#x27;auto&#x27;, random_state=0,\n",
       "              reg_alpha=0, reg_lambda=1, ...)</pre></div></div></div></div></div></div><div class=\"sk-parallel-item\"><div class=\"sk-item\"><div class=\"sk-label-container\"><div class=\"sk-label sk-toggleable\"><label>svc</label></div></div><div class=\"sk-serial\"><div class=\"sk-item\"><div class=\"sk-estimator sk-toggleable\"><input class=\"sk-toggleable__control sk-hidden--visually\" id=\"sk-estimator-id-5\" type=\"checkbox\" ><label for=\"sk-estimator-id-5\" class=\"sk-toggleable__label sk-toggleable__label-arrow\">SVC</label><div class=\"sk-toggleable__content\"><pre>SVC()</pre></div></div></div></div></div></div></div></div></div></div>"
      ],
      "text/plain": [
       "VotingClassifier(estimators=[('xgb',\n",
       "                              XGBClassifier(base_score=0.5, booster='gbtree',\n",
       "                                            callbacks=None, colsample_bylevel=1,\n",
       "                                            colsample_bynode=1,\n",
       "                                            colsample_bytree=1,\n",
       "                                            early_stopping_rounds=None,\n",
       "                                            enable_categorical=False,\n",
       "                                            eval_metric=None, gamma=0,\n",
       "                                            gpu_id=-1, grow_policy='depthwise',\n",
       "                                            importance_type=None,\n",
       "                                            interaction_constraints='',\n",
       "                                            learning_rate=0.300000012,\n",
       "                                            max_bin=256, max_cat_to_onehot=4,\n",
       "                                            max_delta_step=0, max_depth=6,\n",
       "                                            max_leaves=0, min_child_weight=1,\n",
       "                                            missing=nan,\n",
       "                                            monotone_constraints='()',\n",
       "                                            n_estimators=100, n_jobs=0,\n",
       "                                            num_parallel_tree=1,\n",
       "                                            predictor='auto', random_state=0,\n",
       "                                            reg_alpha=0, reg_lambda=1, ...)),\n",
       "                             ('svc', SVC())])"
      ]
     },
     "execution_count": 115,
     "metadata": {},
     "output_type": "execute_result"
    }
   ],
   "source": [
    "estimators = [('xgb', model_xgb), ('svc', model_svc)]\n",
    "ensemble = VotingClassifier(estimators, voting='hard')\n",
    "ensemble.fit(X, y)\n",
    "print('best ensemble')"
   ]
  },
  {
   "cell_type": "code",
   "execution_count": null,
   "id": "068301bc",
   "metadata": {},
   "outputs": [],
   "source": [
    "#{'learning_rate_init': 0.4047953483157897, 'max_iter': 782, 'hidden_layer_sizes': 182} "
   ]
  },
  {
   "cell_type": "markdown",
   "id": "7bc07d96",
   "metadata": {},
   "source": [
    "# Prediction on new data (Kaggle submission)"
   ]
  },
  {
   "cell_type": "code",
   "execution_count": 117,
   "id": "93ce0d04",
   "metadata": {
    "ExecuteTime": {
     "end_time": "2022-10-29T08:49:08.211934Z",
     "start_time": "2022-10-29T08:49:08.135388Z"
    }
   },
   "outputs": [],
   "source": [
    "X_test_new = pd.read_csv('test.csv')\n",
    "X_test_new = titanic_transform(X_test_new)\n",
    "\n",
    "predictions = ensemble.predict(X_test_new)\n",
    "\n",
    "X_test_ps = pd.read_csv('test.csv')\n",
    "submission = pd.DataFrame({'PassengerId': X_test_ps.PassengerId, 'Survived': predictions})\n",
    "submission.to_csv('submission.csv', index=False)"
   ]
  }
 ],
 "metadata": {
  "kernelspec": {
   "display_name": "Python 3 (ipykernel)",
   "language": "python",
   "name": "python3"
  },
  "language_info": {
   "codemirror_mode": {
    "name": "ipython",
    "version": 3
   },
   "file_extension": ".py",
   "mimetype": "text/x-python",
   "name": "python",
   "nbconvert_exporter": "python",
   "pygments_lexer": "ipython3",
   "version": "3.10.0"
  },
  "toc": {
   "base_numbering": 1,
   "nav_menu": {},
   "number_sections": true,
   "sideBar": true,
   "skip_h1_title": false,
   "title_cell": "Table of Contents",
   "title_sidebar": "Contents",
   "toc_cell": false,
   "toc_position": {},
   "toc_section_display": true,
   "toc_window_display": false
  },
  "varInspector": {
   "cols": {
    "lenName": 16,
    "lenType": 16,
    "lenVar": 40
   },
   "kernels_config": {
    "python": {
     "delete_cmd_postfix": "",
     "delete_cmd_prefix": "del ",
     "library": "var_list.py",
     "varRefreshCmd": "print(var_dic_list())"
    },
    "r": {
     "delete_cmd_postfix": ") ",
     "delete_cmd_prefix": "rm(",
     "library": "var_list.r",
     "varRefreshCmd": "cat(var_dic_list()) "
    }
   },
   "types_to_exclude": [
    "module",
    "function",
    "builtin_function_or_method",
    "instance",
    "_Feature"
   ],
   "window_display": false
  }
 },
 "nbformat": 4,
 "nbformat_minor": 5
}
