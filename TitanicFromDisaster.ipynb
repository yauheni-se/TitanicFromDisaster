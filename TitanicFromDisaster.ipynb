{
 "cells": [
  {
   "cell_type": "markdown",
   "id": "375feec6",
   "metadata": {},
   "source": [
    "# Presets"
   ]
  },
  {
   "cell_type": "code",
   "execution_count": 1,
   "id": "dbe97afd",
   "metadata": {
    "ExecuteTime": {
     "end_time": "2022-10-30T14:24:28.899636Z",
     "start_time": "2022-10-30T14:24:15.681527Z"
    },
    "scrolled": true
   },
   "outputs": [],
   "source": [
    "import pandas as pd\n",
    "import numpy as np\n",
    "import plotly.express as px\n",
    "import plotly.graph_objects as go\n",
    "import plotly.figure_factory as ff\n",
    "import matplotlib.pyplot as plt\n",
    "from IPython.display import display, HTML\n",
    "\n",
    "from sklearn.model_selection import train_test_split\n",
    "from sklearn.pipeline import Pipeline\n",
    "from sklearn.impute import SimpleImputer\n",
    "from sklearn.preprocessing import StandardScaler, OneHotEncoder\n",
    "from sklearn.compose import ColumnTransformer\n",
    "from sklearn.base import BaseEstimator, TransformerMixin\n",
    "from sklearn import metrics\n",
    "\n",
    "# Hyperparams tuning\n",
    "from sklearn.model_selection import GridSearchCV, ParameterGrid\n",
    "from sklearn_genetic import GASearchCV\n",
    "from sklearn_genetic.space import Continuous, Categorical, Integer\n",
    "\n",
    "# Classifiers\n",
    "from sklearn.linear_model import LogisticRegression\n",
    "from sklearn.ensemble import (RandomForestClassifier, AdaBoostClassifier,\n",
    "                              ExtraTreesClassifier, VotingClassifier)\n",
    "from sklearn.tree import DecisionTreeClassifier\n",
    "from xgboost import XGBClassifier\n",
    "from sklearn.svm import SVC\n",
    "from lightgbm import LGBMClassifier\n",
    "from catboost import CatBoostClassifier\n",
    "from sklearn.neighbors import KNeighborsClassifier\n",
    "from sklearn.neural_network import MLPClassifier\n",
    "np.random.seed(42)"
   ]
  },
  {
   "cell_type": "code",
   "execution_count": 2,
   "id": "43be2063",
   "metadata": {
    "ExecuteTime": {
     "end_time": "2022-10-30T14:24:34.431571Z",
     "start_time": "2022-10-30T14:24:34.403531Z"
    },
    "code_folding": [
     0,
     12,
     30,
     49,
     69,
     85,
     102,
     134,
     148,
     164
    ]
   },
   "outputs": [],
   "source": [
    "def basic_descriptives(df):\n",
    "    display(HTML(\"<p>Head:</p>\"))\n",
    "    display(HTML(df.head().to_html()))\n",
    "    display(HTML(\"<p>Summary stats:</p>\"))\n",
    "    display(HTML(df.describe().to_html()))\n",
    "    print(\n",
    "        \"\\nNrows: \", df.shape[0], \"\\n\",\n",
    "        \"\\nNcols: \", df.shape[1], \"\\n\",\n",
    "        \"\\nData types:\\n\", df.dtypes.to_string(), \"\\n\",\n",
    "        sep=''\n",
    "    )\n",
    "    \n",
    "def show_basic_plots(df, vars_subset=None):\n",
    "    # Presets:\n",
    "    if vars_subset is None:\n",
    "        vars_subset = df.columns.tolist()\n",
    "    \n",
    "    color_background = '#F5F5F5'\n",
    "    color_gridlines = '#DCDCDC'\n",
    "    colors_in_use = ['#2C3E50', '#537EA2', '#858F84', '#42A593',\n",
    "                     '#873E23', '#CFD1A1', '#6A744F', '#BDBDC5',\n",
    "                     '#7EA253', '#EDB676', '#C26D40']+px.colors.qualitative.Safe\n",
    "    \n",
    "    dtypes_num = ['int64', 'int32', 'int16', 'float64', 'float32', 'float16']\n",
    "    dtypes_str = ['object', 'category']\n",
    "    vars_num = df.loc[:, vars_subset].select_dtypes(include=dtypes_num).columns\n",
    "    vars_str = df.loc[:, vars_subset].select_dtypes(include=dtypes_str).columns\n",
    "    \n",
    "    # For categorical variables:\n",
    "    fig_str_lst = [None]*len(vars_str)\n",
    "    for i in range(0, len(vars_str)):\n",
    "        fig = go.Figure()\n",
    "        fig.add_trace(go.Histogram(x=df.loc[:, vars_str[i]],\n",
    "                                   name=vars_str[i],\n",
    "                                   showlegend=True))\n",
    "        fig.update_traces(marker_color=colors_in_use[0],\n",
    "                          marker_line_color='rgb(8,48,107)',\n",
    "                          marker_line_width=1.5,\n",
    "                          opacity=0.8)\n",
    "        fig.update_layout(xaxis_type='category',\n",
    "                          xaxis_title=vars_str[i],\n",
    "                          paper_bgcolor=color_background,\n",
    "                          plot_bgcolor=color_background)\n",
    "        fig.update_yaxes(gridcolor=color_gridlines)\n",
    "        fig.update_xaxes(linecolor=color_gridlines)\n",
    "        fig_str_lst[i] = fig\n",
    "        \n",
    "    # For 2 categorical variables:\n",
    "    fig_str_lst_mix = []\n",
    "    for i in range(0, len(vars_str)):\n",
    "        for j in range(0, len(vars_str)):\n",
    "            if i == j:\n",
    "                continue\n",
    "            else:\n",
    "                fig = px.histogram(df, x=vars_str[i], color=vars_str[j],\n",
    "                                   color_discrete_sequence=colors_in_use[1:])\n",
    "                fig.update_traces(marker_line_color='rgb(8,48,107)',\n",
    "                                  marker_line_width=1.5,\n",
    "                                  opacity=0.8)\n",
    "                fig.update_layout(xaxis_type='category',\n",
    "                                  xaxis_title=vars_str[i],\n",
    "                                  paper_bgcolor=color_background,\n",
    "                                  plot_bgcolor=color_background)\n",
    "                fig.update_yaxes(gridcolor=color_gridlines, title='')\n",
    "                fig.update_xaxes(linecolor=color_gridlines)\n",
    "                fig_str_lst_mix.append(fig)\n",
    "            \n",
    "    # For numerical variables:\n",
    "    fig_num_lst_dist = [None]*len(vars_num)\n",
    "    for i in range(0, len(vars_num)):\n",
    "        fig = ff.create_distplot(hist_data=[df[vars_num[i]].dropna()],\n",
    "                                 group_labels=[vars_num[i]],\n",
    "                                 show_hist=False,\n",
    "                                 show_rug=False,\n",
    "                                 colors = colors_in_use)\n",
    "        fig.update_layout(paper_bgcolor=color_background,\n",
    "                              plot_bgcolor=color_background)\n",
    "        fig.update_yaxes(gridcolor=color_gridlines,\n",
    "                         zerolinecolor=color_gridlines,\n",
    "                         title='')\n",
    "        fig.update_xaxes(gridcolor=color_gridlines,\n",
    "                         title=vars_num[i])\n",
    "        fig_num_lst_dist[i] = fig\n",
    "        \n",
    "    fig_num_lst_violin = [None]*len(vars_num)\n",
    "    for i in range(0, len(vars_num)):\n",
    "        fig = px.violin(df, y=vars_num[i], box=True, points='outliers')\n",
    "        fig.update_traces(marker_color = colors_in_use[0],\n",
    "                          opacity=0.8,\n",
    "                          name=vars_num[i],\n",
    "                          showlegend=True)\n",
    "        fig.update_layout(paper_bgcolor=color_background,\n",
    "                          plot_bgcolor=color_background)\n",
    "        fig.update_yaxes(gridcolor=color_gridlines,\n",
    "                         zerolinecolor=color_gridlines,\n",
    "                         title='')\n",
    "        fig.update_xaxes(title=vars_num[i])\n",
    "        fig_num_lst_violin[i] = fig\n",
    "    \n",
    "        # For 2 numerical variables:\n",
    "    fig_num_lst_mix = []\n",
    "    fig_num_lst_scat = []\n",
    "    for i in range(0, len(vars_num)):\n",
    "        for j in range(0, len(vars_num)):\n",
    "            if i == j:\n",
    "                continue\n",
    "            else:\n",
    "                fig = go.Figure()\n",
    "                fig.add_trace(go.Histogram2dContour(x = df[vars_num[i]],\n",
    "                                                        y = df[vars_num[j]],\n",
    "                                                        colorscale='deep'))\n",
    "                fig.update_layout(paper_bgcolor=color_background,\n",
    "                                  plot_bgcolor=color_background)\n",
    "                fig.update_yaxes(title=vars_num[j])\n",
    "                fig.update_xaxes(title=vars_num[i])\n",
    "                fig_num_lst_mix.append(fig)\n",
    "                \n",
    "                fig = px.scatter(data,x=data[vars_num[i]],\n",
    "                                 y=data[vars_num[j]],\n",
    "                                 trendline='ols')\n",
    "                fig.update_layout(paper_bgcolor=color_background,\n",
    "                                  plot_bgcolor=color_background)\n",
    "                fig.update_traces(marker_color=colors_in_use[0],\n",
    "                                  opacity=0.8)\n",
    "                fig.update_yaxes(gridcolor=color_gridlines,\n",
    "                                 zerolinecolor=color_gridlines,\n",
    "                                 title=vars_num[j])\n",
    "                fig.update_xaxes(gridcolor=color_gridlines,\n",
    "                                 zerolinecolor=color_gridlines,\n",
    "                                 title=vars_num[i])\n",
    "                fig_num_lst_scat.append(fig)\n",
    "        \n",
    "    # 1 categorical, 1 numeric:\n",
    "    fig_all_violin_mix = []\n",
    "    for i in range(0, len(vars_str)):\n",
    "        for j in range(0, len(vars_num)):\n",
    "            fig = px.violin(df, y=vars_num[j], color=vars_str[i],\n",
    "                            color_discrete_sequence=colors_in_use,\n",
    "                            box=True, points='outliers')\n",
    "            fig.update_traces(opacity=0.8)\n",
    "            fig.update_layout(xaxis_title=vars_num[j],\n",
    "                              showlegend=True,\n",
    "                              paper_bgcolor=color_background,\n",
    "                              plot_bgcolor=color_background)\n",
    "            fig.update_yaxes(gridcolor=color_gridlines, title='')\n",
    "            fig.update_xaxes(linecolor=color_gridlines)\n",
    "            fig_all_violin_mix.append(fig)\n",
    "            \n",
    "    final_dict = {\n",
    "        # categorical+target\n",
    "        'dist_cat': fig_str_lst,\n",
    "        'dist_mlt_cat': fig_str_lst_mix,\n",
    "        # numeric+target\n",
    "        'dist_num': fig_num_lst_dist,\n",
    "        'violin_num': fig_num_lst_violin,\n",
    "        'scatter_num': fig_num_lst_scat,\n",
    "        'dist_mlt_num': fig_num_lst_mix,\n",
    "        # all\n",
    "        'violin_mix': fig_all_violin_mix\n",
    "        #'scatter_mix': None,\n",
    "        #'dist_mlt_mix': None,\n",
    "    }\n",
    "    return(final_dict) \n",
    "\n",
    "def corr_heatmap(df):\n",
    "    color_background = '#F5F5F5'\n",
    "    color_gridlines = '#DCDCDC'\n",
    "        \n",
    "    fig = px.imshow(df.corr().round(3), text_auto=True, color_continuous_scale='deep')\n",
    "    fig.update_traces(opacity=0.8)\n",
    "    fig.update_layout(\n",
    "        coloraxis_showscale=False,\n",
    "        paper_bgcolor=color_background,\n",
    "        plot_bgcolor=color_background)\n",
    "    fig.update_yaxes(gridcolor=color_gridlines, title='')\n",
    "    fig.update_xaxes(linecolor=color_gridlines)\n",
    "    return(fig)"
   ]
  },
  {
   "cell_type": "code",
   "execution_count": 3,
   "id": "0db0dd77",
   "metadata": {
    "ExecuteTime": {
     "end_time": "2022-10-30T14:24:37.296478Z",
     "start_time": "2022-10-30T14:24:37.289477Z"
    },
    "code_folding": [
     0
    ]
   },
   "outputs": [],
   "source": [
    "def show_model_grid_search_cv(model_grid, classifier, name, cv=3):\n",
    "    model_pipeline = Pipeline(\n",
    "        steps=[(\"preprocessor\", preprocessor), (\"classifier\", classifier)]\n",
    "    )\n",
    "    \n",
    "    model_grid_search_cv = GridSearchCV(\n",
    "        estimator = model_pipeline,\n",
    "        param_grid = model_grid,\n",
    "        cv = cv,\n",
    "        n_jobs = -1,\n",
    "        verbose = 2\n",
    "    ).fit(X_train, y_train)\n",
    "    print(\"\\nModel:\", name, \"\\n\")\n",
    "    print(\"Accuracy:\", model_grid_search_cv.best_score_, \"\\n\")\n",
    "    print(\"Best params\", model_grid_search_cv.best_params_, \"\\n\")"
   ]
  },
  {
   "cell_type": "code",
   "execution_count": 4,
   "id": "b664f1e4",
   "metadata": {
    "ExecuteTime": {
     "end_time": "2022-10-30T14:24:38.686508Z",
     "start_time": "2022-10-30T14:24:38.680506Z"
    },
    "code_folding": [
     0
    ]
   },
   "outputs": [],
   "source": [
    "def show_model_ga_search_cv(model_grid, classifier, name, cv=10, popsize=50):\n",
    "    model_grid_search_cv = GASearchCV(\n",
    "        estimator=classifier,\n",
    "        cv=cv,\n",
    "        scoring='accuracy',\n",
    "        population_size=popsize,\n",
    "        generations=40,\n",
    "        tournament_size=3,\n",
    "        elitism=True,\n",
    "        crossover_probability=0.8,\n",
    "        mutation_probability=0.1,\n",
    "        param_grid=model_grid,\n",
    "        criteria='max',\n",
    "        algorithm='eaMuPlusLambda',\n",
    "        n_jobs=-1,\n",
    "        verbose=True,\n",
    "        keep_top_k=4\n",
    "    ).fit(X_train, y_train)\n",
    "    print(\"\\nModel:\", name, \"\\n\")\n",
    "    print(\"Accuracy:\", model_grid_search_cv.best_score_, \"\\n\")\n",
    "    print(\"Best params\", model_grid_search_cv.best_params_, \"\\n\")"
   ]
  },
  {
   "cell_type": "code",
   "execution_count": 5,
   "id": "7e8632b3",
   "metadata": {
    "ExecuteTime": {
     "end_time": "2022-10-30T14:24:40.389659Z",
     "start_time": "2022-10-30T14:24:40.361533Z"
    }
   },
   "outputs": [],
   "source": [
    "data = pd.read_csv('train.csv')"
   ]
  },
  {
   "cell_type": "markdown",
   "id": "061000c1",
   "metadata": {},
   "source": [
    "# EDA"
   ]
  },
  {
   "cell_type": "markdown",
   "id": "d20def56",
   "metadata": {
    "heading_collapsed": true
   },
   "source": [
    "## Initial"
   ]
  },
  {
   "cell_type": "code",
   "execution_count": null,
   "id": "951892bd",
   "metadata": {
    "ExecuteTime": {
     "end_time": "2022-10-27T15:29:51.906279Z",
     "start_time": "2022-10-27T15:29:51.879271Z"
    },
    "hidden": true,
    "scrolled": true
   },
   "outputs": [],
   "source": [
    "basic_descriptives(data)  "
   ]
  },
  {
   "cell_type": "code",
   "execution_count": null,
   "id": "232f6f3e",
   "metadata": {
    "ExecuteTime": {
     "end_time": "2022-10-27T15:30:16.356600Z",
     "start_time": "2022-10-27T15:30:16.344163Z"
    },
    "hidden": true
   },
   "outputs": [],
   "source": [
    "tmp = show_basic_plots(data)"
   ]
  },
  {
   "cell_type": "code",
   "execution_count": null,
   "id": "8e98a86e",
   "metadata": {
    "ExecuteTime": {
     "end_time": "2022-10-25T14:47:01.175235Z",
     "start_time": "2022-10-25T14:47:01.160127Z"
    },
    "hidden": true
   },
   "outputs": [],
   "source": [
    "print(tmp.keys()) # options what to show"
   ]
  },
  {
   "cell_type": "code",
   "execution_count": null,
   "id": "64108e6e",
   "metadata": {
    "ExecuteTime": {
     "end_time": "2022-10-25T14:50:30.923977Z",
     "start_time": "2022-10-25T14:50:30.778449Z"
    },
    "hidden": true,
    "scrolled": true
   },
   "outputs": [],
   "source": [
    "for i in tmp['dist_num']: \n",
    "    i.show()\n",
    "del tmp"
   ]
  },
  {
   "cell_type": "markdown",
   "id": "95ffe4f0",
   "metadata": {
    "hidden": true
   },
   "source": [
    "Main technical clues here:\n",
    "- Name, PassengerId are rather unimportant as predictors (or at least it is hard to see some reasons to think so)\n",
    "- Pclass, Survided, Parch, SibSp are actually character variables\n",
    "- Distribuion of Cabins and Tickets are almost unimodal\n",
    "\n",
    "From the analytical perspective:\n",
    "- Most of passangers embarked in S (Southampton)\n",
    "- There were more men than women on the board\n",
    "- Fare have some big outliers\n",
    "- Age have a lot of missings\n",
    "\n",
    "So, recode & drop to explore better:"
   ]
  },
  {
   "cell_type": "markdown",
   "id": "92a036e8",
   "metadata": {
    "heading_collapsed": true
   },
   "source": [
    "## EDA continuation"
   ]
  },
  {
   "cell_type": "code",
   "execution_count": null,
   "id": "073e2b08",
   "metadata": {
    "ExecuteTime": {
     "end_time": "2022-10-25T14:53:58.456950Z",
     "start_time": "2022-10-25T14:53:58.440810Z"
    },
    "hidden": true
   },
   "outputs": [],
   "source": [
    "data_cleared = data.copy()\n",
    "data_cleared['Survived'] = data_cleared.Survived.astype(str)\n",
    "data_cleared['Pclass'] = data_cleared.Pclass.astype(str)\n",
    "data_cleared['SibSp'] = data_cleared.SibSp.astype(str)\n",
    "data_cleared['Parch'] = data_cleared.Parch.astype(str)\n",
    "data_cleared.drop(columns=['PassengerId', 'Cabin', 'Ticket', 'Name'], inplace=True)"
   ]
  },
  {
   "cell_type": "code",
   "execution_count": null,
   "id": "6ebf7a8e",
   "metadata": {
    "ExecuteTime": {
     "end_time": "2022-10-25T14:57:26.108543Z",
     "start_time": "2022-10-25T14:57:26.091866Z"
    },
    "hidden": true
   },
   "outputs": [],
   "source": [
    "data_cleared.head()"
   ]
  },
  {
   "cell_type": "code",
   "execution_count": null,
   "id": "2975292c",
   "metadata": {
    "ExecuteTime": {
     "end_time": "2022-10-25T15:00:54.267221Z",
     "start_time": "2022-10-25T15:00:54.222941Z"
    },
    "hidden": true
   },
   "outputs": [],
   "source": [
    "corr_heatmap(data_cleared)"
   ]
  },
  {
   "cell_type": "code",
   "execution_count": null,
   "id": "601146fe",
   "metadata": {
    "ExecuteTime": {
     "end_time": "2022-10-25T15:04:22.982400Z",
     "start_time": "2022-10-25T15:04:22.937117Z"
    },
    "hidden": true
   },
   "outputs": [],
   "source": [
    "data_corr = data_cleared.copy()\n",
    "data_corr = DataFrameExtended(data_corr)\n",
    "data_corr['Survived'] = data_corr.Survived.astype(np.int64)\n",
    "data_corr['Pclass'] = data_corr.Pclass.astype(np.int64)\n",
    "data_corr['SibSp'] = data_corr.SibSp.astype(np.int64)\n",
    "data_corr['Parch'] = data_corr.Parch.astype(np.int64)\n",
    "corr_heatmap(data_corr)"
   ]
  },
  {
   "cell_type": "code",
   "execution_count": null,
   "id": "4b57aab3",
   "metadata": {
    "ExecuteTime": {
     "end_time": "2022-10-25T15:07:53.639815Z",
     "start_time": "2022-10-25T15:07:51.839058Z"
    },
    "hidden": true,
    "scrolled": true
   },
   "outputs": [],
   "source": [
    "tmp = show_basic_plots(data_cleared)\n",
    "print(data_cleared_plots.keys())"
   ]
  },
  {
   "cell_type": "code",
   "execution_count": null,
   "id": "56330e10",
   "metadata": {
    "ExecuteTime": {
     "end_time": "2022-10-26T14:07:45.666761Z",
     "start_time": "2022-10-26T14:07:45.644751Z"
    },
    "code_folding": [],
    "hidden": true,
    "scrolled": false
   },
   "outputs": [],
   "source": [
    "for i in data_cleared_plots['violin_num']: \n",
    "    i.show()\n",
    "#del tmp"
   ]
  },
  {
   "cell_type": "markdown",
   "id": "be67b484",
   "metadata": {
    "hidden": true
   },
   "source": [
    "Main clues:\n",
    "- Most passengers travelled 3rd class\n",
    "- Mostly, passengers travelled alone (no siblings, spouces) or maximum with 1 spouce/child. Other examples are rather outliers that (maybe) can be grouped\n",
    "- Among the survived, the proportion of women was much bigger. Moreover, the proportion of survation between Pclass also differs\n",
    "- Fare/Age distribution almost uniform\n",
    "- Fare of people survived was bigger\n",
    "- More uniform distribution of Age in the 1st class, mean Age is also upper\n",
    "- Numeric variables are not correlated between each other\n",
    "- Parch & SibSp are pretty much correlated"
   ]
  },
  {
   "cell_type": "markdown",
   "id": "5359febe",
   "metadata": {},
   "source": [
    "# Feature creation / transformation"
   ]
  },
  {
   "cell_type": "markdown",
   "id": "55d92bc7",
   "metadata": {},
   "source": [
    "## Functions"
   ]
  },
  {
   "cell_type": "code",
   "execution_count": 6,
   "id": "721d28a6",
   "metadata": {
    "ExecuteTime": {
     "end_time": "2022-10-30T14:24:47.887902Z",
     "start_time": "2022-10-30T14:24:47.873358Z"
    },
    "code_folding": [
     0,
     14,
     36
    ]
   },
   "outputs": [],
   "source": [
    "def bin_family(size):\n",
    "    family_group = ''\n",
    "    if (size == 1):\n",
    "        family_group = 'alone'\n",
    "    elif (size == 2):\n",
    "        family_group = 'pair'\n",
    "    elif (size == 3):\n",
    "        family_group = 'pair_1_child'\n",
    "    elif (size == 4):\n",
    "        family_group = 'pair_2_child'\n",
    "    else:\n",
    "        family_group = 'large'\n",
    "    return family_group\n",
    "\n",
    "def bin_age(age):\n",
    "    age_group = ''\n",
    "    if age <= 1:\n",
    "        age_group = 'infant'\n",
    "    elif age <= 4: \n",
    "        age_group = 'toddler'\n",
    "    elif age <= 13:\n",
    "        age_group = 'child'\n",
    "    elif age <= 18:\n",
    "        age_group = 'teenager'\n",
    "    elif age <= 35:\n",
    "        age_group = 'young_adult'\n",
    "    elif age <= 45:\n",
    "        age_group = 'adult'\n",
    "    elif age <= 55:\n",
    "        age_group = 'middle_aged'\n",
    "    elif age <= 65:\n",
    "        age_group = 'senior'\n",
    "    else:\n",
    "        age_group = 'very_old'\n",
    "    return age_group\n",
    "\n",
    "def bin_fare(fare):\n",
    "    fare_group = ''\n",
    "    if fare <= 4:\n",
    "        fare_group = 'Very_low'\n",
    "    elif fare <= 10:\n",
    "        fare_group = 'low'\n",
    "    elif fare <= 20:\n",
    "        fare_group = 'mid'\n",
    "    elif fare <= 45:\n",
    "        fare_group = 'high'\n",
    "    else:\n",
    "        fare_group = \"very_high\"\n",
    "    return fare_group"
   ]
  },
  {
   "cell_type": "code",
   "execution_count": 7,
   "id": "6172d51c",
   "metadata": {
    "ExecuteTime": {
     "end_time": "2022-10-30T14:24:49.407241Z",
     "start_time": "2022-10-30T14:24:49.384262Z"
    },
    "code_folding": []
   },
   "outputs": [],
   "source": [
    "def titanic_transform(X):\n",
    "    name_recoded = X.Name.str.extract(\n",
    "        r'(Mrs|Miss|Lady|Ms|Mme|Mlle|Dona|Mr|Don|Master|Rev|Col|Jonkheer|Dr|Major)'\n",
    "    )\n",
    "    name_recoded = name_recoded.fillna('Officer')\n",
    "    X['Title'] = name_recoded\n",
    "    X['Title'] = X['Title'].str.replace('Ms|Mlle|Lady', 'Miss', regex=True)\n",
    "    X['Title'] = X['Title'].str.replace('Mme|Dona|Countess', 'Mrs', regex=True)\n",
    "    X['Title'] = X['Title'].str.replace('Don|Rev|Sir', 'Mr', regex=True) \n",
    "    X['Title'] = X['Title'].str.replace('Col|Jonkheer|Dr|Major', 'Officer', regex=True)\n",
    "    \n",
    "    \n",
    "    #X['LastName'] = X['Name'].apply(lambda x: str.split(x, ',')[0])\n",
    "    # df['Last_Name'] = df['Name'].apply(lambda x: str.split(x, ',')[0])\n",
    "    # create family survival\n",
    "    # check Age binned with qbin\n",
    "    # check Fare binned with qbin\n",
    "\n",
    "    #X['DeckMissing'] = np.where(X['Cabin'].isnull(), 1, 0)\n",
    "    X['Deck'] = X['Cabin'].apply(lambda s: s[0] if pd.notnull(s) else 'M')\n",
    "    X['Deck'] = X['Deck'].replace(['A', 'B', 'C', 'T'], 'ABC')\n",
    "    X['Deck'] = X['Deck'].replace(['D', 'E'], 'DE')\n",
    "    X['Deck'] = X['Deck'].replace(['F', 'G'], 'FG')\n",
    "    #X['Ticket_Frequency'] = X.groupby('Ticket')['Ticket'].transform('count')\n",
    "    \n",
    "    \n",
    "    #X['Cabin'].str.extract(r'([A-z])').fillna('Unknown')\n",
    "    X['Embarked'] = X['Embarked'].fillna('S')\n",
    "    \n",
    "    X['AgeMissing'] = np.where(X['Age'].isnull(), 1, 0)\n",
    "    \n",
    "    X['Age'] = X.groupby(['Sex', 'Pclass'])['Age'].apply(lambda x: x.fillna(x.median()))\n",
    "    X['AgeBin'] = X['Age'].map(bin_age)\n",
    "    \n",
    "    X['FamilySize'] = X['SibSp'] + X['Parch'] + 1\n",
    "    X['FamilyBin'] = X['FamilySize'].map(bin_family)\n",
    "    \n",
    "    median_fare = X.groupby(['Pclass', 'Parch', 'SibSp']).Fare.median()[3][0][0]\n",
    "    X['Fare'] = X['Fare'].fillna(median_fare)\n",
    "    X['FarePerFamily'] = X['Fare']/X['FamilySize']\n",
    "    X['FareBin'] = X['FarePerFamily'].map(bin_fare)\n",
    "    \n",
    "    X['Pclass'] = X.Pclass.astype(str)\n",
    "    cols_to_drop = ['Name', 'PassengerId', 'Ticket', 'Cabin',\n",
    "                    'FamilySize', 'Age', 'Fare', 'FarePerFamily', 'SibSp', 'Parch']\n",
    "    X.drop(columns=cols_to_drop, inplace=True)\n",
    "    \n",
    "    \n",
    "    cols_to_dummy = ['Pclass', 'Sex', 'Embarked', 'Title',\n",
    "                     'AgeBin', 'FamilyBin', 'FareBin', 'Deck'\n",
    "                    ]\n",
    "    X = pd.get_dummies(X, columns=cols_to_dummy, prefix=cols_to_dummy)\n",
    "    \n",
    "    return X"
   ]
  },
  {
   "cell_type": "code",
   "execution_count": 8,
   "id": "62e059e8",
   "metadata": {
    "ExecuteTime": {
     "end_time": "2022-10-30T14:24:52.098042Z",
     "start_time": "2022-10-30T14:24:52.048570Z"
    }
   },
   "outputs": [],
   "source": [
    "X = data.copy()\n",
    "y = X['Survived']\n",
    "X.drop(columns=['Survived'], inplace=True)\n",
    "X = titanic_transform(X)"
   ]
  },
  {
   "cell_type": "code",
   "execution_count": 9,
   "id": "81e7623b",
   "metadata": {
    "ExecuteTime": {
     "end_time": "2022-10-30T14:24:53.663182Z",
     "start_time": "2022-10-30T14:24:53.648547Z"
    }
   },
   "outputs": [],
   "source": [
    "X_train, X_test, y_train, y_test = train_test_split(X, y, test_size=0.2, random_state=0)"
   ]
  },
  {
   "cell_type": "markdown",
   "id": "d6ff3227",
   "metadata": {},
   "source": [
    "# Models calibration: GASearch"
   ]
  },
  {
   "cell_type": "markdown",
   "id": "cc46f6f2",
   "metadata": {
    "heading_collapsed": true
   },
   "source": [
    "## Grids"
   ]
  },
  {
   "cell_type": "code",
   "execution_count": null,
   "id": "135d3d0e",
   "metadata": {
    "ExecuteTime": {
     "end_time": "2022-10-29T15:40:44.850818Z",
     "start_time": "2022-10-29T15:40:44.836286Z"
    },
    "code_folding": [
     0,
     4,
     9,
     14,
     19,
     27,
     35,
     40,
     49,
     59
    ],
    "hidden": true
   },
   "outputs": [],
   "source": [
    "model_grid_ga_logistic = {\n",
    "    'C': Continuous(0.1, 1000, distribution='uniform')\n",
    "}\n",
    "\n",
    "model_grid_ga_logistic_net = {\n",
    "    'C': Continuous(0.1, 1000, distribution='uniform'),\n",
    "    'l1_ratio': Continuous(0, 1, distribution='uniform')\n",
    "}\n",
    "\n",
    "model_grid_ga_knn = {\n",
    "    'n_neighbors': Integer(3, 20),\n",
    "    'leaf_size': Integer(20, 50)\n",
    "}\n",
    "\n",
    "model_grid_ga_svm = {\n",
    "    'C': Continuous(0.1, 1000, distribution='uniform'),\n",
    "    'gamma': Continuous(0.0001, 1, distribution='uniform'),\n",
    "}\n",
    "\n",
    "model_grid_ga_rf = {\n",
    "    'max_depth': Integer(10, 80),\n",
    "    'max_features': Integer(1, 7),\n",
    "    'min_samples_leaf': Integer(1, 7),\n",
    "    'min_samples_split': Integer(2, 10),\n",
    "    'n_estimators': Integer(25, 500)#,\n",
    "}\n",
    "\n",
    "model_grid_ga_extra_trees = {\n",
    "    'max_depth': Integer(10, 80),\n",
    "    'max_features': Integer(1, 7),\n",
    "    'min_samples_leaf': Integer(1, 7),\n",
    "    'min_samples_split': Integer(2, 10),\n",
    "    'n_estimators': Integer(25, 500)#,\n",
    "}\n",
    "\n",
    "model_grid_ga_adaboost = {\n",
    "    \"learning_rate\": Continuous(0.01, 0.50, distribution='uniform'),\n",
    "    \"n_estimators\": Integer(25, 500)\n",
    "}\n",
    "\n",
    "model_grid_ga_xgboost = {\n",
    "    \"subsample\": Continuous(0.75, 1, distribution='uniform'),\n",
    "    \"colsample_bytree\": Continuous(0.75, 1, distribution='uniform'),\n",
    "    \"max_depth\": Integer(2, 16),\n",
    "    \"min_child_weight\": Integer(2, 15),\n",
    "    \"learning_rate\": Continuous(0.01, 0.50, distribution='uniform'),\n",
    "    \"n_estimators\": Integer(25, 500)\n",
    "}\n",
    "\n",
    "model_grid_ga_lgbm = {\n",
    "    \"learning_rate\": Continuous(0.01, 0.50, distribution='uniform'),\n",
    "    \"n_estimators\": Integer(25, 500),\n",
    "    \"num_iterations\": Integer(100, 1000),\n",
    "    \"lambda_l2\": Integer(0, 3),\n",
    "    \"bagging_fraction\": Continuous(0.8, 1, distribution='uniform'),\n",
    "    \"min_data_in_leaf\": Integer(10, 40),\n",
    "    \"num_leaves\": Integer(21, 51),\n",
    "}\n",
    "\n",
    "model_grid_ga_nnet = {\n",
    "    'learning_rate_init': Continuous(0.01, 0.50, distribution='uniform'),\n",
    "    'max_iter': Integer(200, 2000),\n",
    "    'hidden_layer_sizes': Integer(100, 1000)\n",
    "}"
   ]
  },
  {
   "cell_type": "markdown",
   "id": "8fef18a6",
   "metadata": {
    "heading_collapsed": true
   },
   "source": [
    "## Logistic regression"
   ]
  },
  {
   "cell_type": "code",
   "execution_count": null,
   "id": "405a74da",
   "metadata": {
    "ExecuteTime": {
     "end_time": "2022-10-28T11:49:26.637732Z",
     "start_time": "2022-10-28T11:46:52.704474Z"
    },
    "hidden": true
   },
   "outputs": [],
   "source": [
    "show_model_ga_search_cv(model_grid_ga_logistic,\n",
    "                        LogisticRegression(penalty='none'),\n",
    "                        'logistic_reg')"
   ]
  },
  {
   "cell_type": "code",
   "execution_count": null,
   "id": "3b1bade7",
   "metadata": {
    "ExecuteTime": {
     "end_time": "2022-10-28T11:35:08.628747Z",
     "start_time": "2022-10-28T11:31:06.511878Z"
    },
    "code_folding": [],
    "hidden": true
   },
   "outputs": [],
   "source": [
    "show_model_ga_search_cv(model_grid_ga_logistic_net,\n",
    "                        LogisticRegression(solver='saga', penalty='elasticnet'),\n",
    "                        'logistic_reg')"
   ]
  },
  {
   "cell_type": "code",
   "execution_count": null,
   "id": "17bd3543",
   "metadata": {
    "ExecuteTime": {
     "end_time": "2022-10-28T11:27:27.789470Z",
     "start_time": "2022-10-28T11:23:32.223101Z"
    },
    "code_folding": [],
    "hidden": true
   },
   "outputs": [],
   "source": [
    "show_model_ga_search_cv(model_grid_ga_logistic,\n",
    "                        LogisticRegression(penalty='l1', solver='saga'),\n",
    "                        'logistic_reg')"
   ]
  },
  {
   "cell_type": "code",
   "execution_count": null,
   "id": "50b761f4",
   "metadata": {
    "ExecuteTime": {
     "end_time": "2022-10-28T11:16:22.595465Z",
     "start_time": "2022-10-28T11:14:05.646708Z"
    },
    "hidden": true
   },
   "outputs": [],
   "source": [
    "show_model_ga_search_cv(model_grid_ga_logistic, LogisticRegression(penalty='l2'), 'logistic_reg')"
   ]
  },
  {
   "cell_type": "markdown",
   "id": "4b06a654",
   "metadata": {
    "heading_collapsed": true
   },
   "source": [
    "## KNN"
   ]
  },
  {
   "cell_type": "code",
   "execution_count": null,
   "id": "c1ee64fb",
   "metadata": {
    "ExecuteTime": {
     "end_time": "2022-10-29T16:38:00.675413Z",
     "start_time": "2022-10-29T16:36:58.271003Z"
    },
    "hidden": true
   },
   "outputs": [],
   "source": [
    "show_model_ga_search_cv(model_grid_ga_knn, KNeighborsClassifier(), 'knn')"
   ]
  },
  {
   "cell_type": "markdown",
   "id": "6cc32a3d",
   "metadata": {
    "heading_collapsed": true
   },
   "source": [
    "## SVM"
   ]
  },
  {
   "cell_type": "code",
   "execution_count": null,
   "id": "17eb0ec3",
   "metadata": {
    "ExecuteTime": {
     "end_time": "2022-10-28T10:24:50.327745Z",
     "start_time": "2022-10-28T10:14:42.059951Z"
    },
    "hidden": true
   },
   "outputs": [],
   "source": [
    "show_model_ga_search_cv(model_grid_ga_svm, SVC(kernel='linear'), 'svm_linear')"
   ]
  },
  {
   "cell_type": "code",
   "execution_count": null,
   "id": "11102452",
   "metadata": {
    "ExecuteTime": {
     "end_time": "2022-10-29T16:32:04.256326Z",
     "start_time": "2022-10-29T16:27:11.295364Z"
    },
    "hidden": true
   },
   "outputs": [],
   "source": [
    "show_model_ga_search_cv(model_grid_ga_svm, SVC(kernel='rbf'), 'svm_rbf')"
   ]
  },
  {
   "cell_type": "markdown",
   "id": "9ca63a52",
   "metadata": {
    "heading_collapsed": true
   },
   "source": [
    "## Random Forest"
   ]
  },
  {
   "cell_type": "code",
   "execution_count": null,
   "id": "f62be44c",
   "metadata": {
    "ExecuteTime": {
     "end_time": "2022-10-29T17:00:26.439907Z",
     "start_time": "2022-10-29T16:38:14.752083Z"
    },
    "hidden": true
   },
   "outputs": [],
   "source": [
    "show_model_ga_search_cv(model_grid_ga_rf, RandomForestClassifier(), 'random_forest')"
   ]
  },
  {
   "cell_type": "markdown",
   "id": "e3a2a7e3",
   "metadata": {
    "heading_collapsed": true
   },
   "source": [
    "## Extra trees"
   ]
  },
  {
   "cell_type": "code",
   "execution_count": null,
   "id": "616e362c",
   "metadata": {
    "ExecuteTime": {
     "end_time": "2022-10-28T12:23:59.290520Z",
     "start_time": "2022-10-28T11:55:46.586150Z"
    },
    "hidden": true
   },
   "outputs": [],
   "source": [
    "show_model_ga_search_cv(model_grid_ga_extra_trees, ExtraTreesClassifier(), 'extra_trees')"
   ]
  },
  {
   "cell_type": "markdown",
   "id": "ad474927",
   "metadata": {
    "heading_collapsed": true
   },
   "source": [
    "## AdaBoost"
   ]
  },
  {
   "cell_type": "code",
   "execution_count": null,
   "id": "88977fed",
   "metadata": {
    "ExecuteTime": {
     "end_time": "2022-10-28T13:04:27.590722Z",
     "start_time": "2022-10-28T12:25:43.188453Z"
    },
    "hidden": true
   },
   "outputs": [],
   "source": [
    "#show_model_ga_search_cv(model_grid_ga_adaboost, AdaBoostClassifier(), \"adaboost\")"
   ]
  },
  {
   "cell_type": "markdown",
   "id": "ec45199b",
   "metadata": {
    "hidden": true
   },
   "source": [
    "pretty time-consuming"
   ]
  },
  {
   "cell_type": "markdown",
   "id": "b0bbec7b",
   "metadata": {
    "heading_collapsed": true
   },
   "source": [
    "## xgboost"
   ]
  },
  {
   "cell_type": "code",
   "execution_count": null,
   "id": "1f2c072f",
   "metadata": {
    "ExecuteTime": {
     "end_time": "2022-10-29T16:20:39.776975Z",
     "start_time": "2022-10-29T16:15:13.101113Z"
    },
    "hidden": true
   },
   "outputs": [],
   "source": [
    "show_model_ga_search_cv(model_grid_ga_xgboost, XGBClassifier(), 'xgboost')"
   ]
  },
  {
   "cell_type": "markdown",
   "id": "63320f1d",
   "metadata": {
    "heading_collapsed": true
   },
   "source": [
    "## lightGBM"
   ]
  },
  {
   "cell_type": "code",
   "execution_count": null,
   "id": "35a913ae",
   "metadata": {
    "ExecuteTime": {
     "end_time": "2022-10-28T10:04:49.967754Z",
     "start_time": "2022-10-28T09:26:42.774864Z"
    },
    "hidden": true
   },
   "outputs": [],
   "source": [
    "show_model_ga_search_cv(model_grid_ga_lgbm, LGBMClassifier(boosting_type='dart'), 'light_gbm')"
   ]
  },
  {
   "cell_type": "code",
   "execution_count": null,
   "id": "e7085b89",
   "metadata": {
    "ExecuteTime": {
     "end_time": "2022-10-28T10:11:59.723124Z",
     "start_time": "2022-10-28T10:07:07.000273Z"
    },
    "hidden": true,
    "scrolled": true
   },
   "outputs": [],
   "source": [
    "show_model_ga_search_cv(model_grid_ga_lgbm, LGBMClassifier(boosting_type='gbdt'), 'light_gbm')"
   ]
  },
  {
   "cell_type": "markdown",
   "id": "e2c1ef97",
   "metadata": {
    "heading_collapsed": true
   },
   "source": [
    "## NNET"
   ]
  },
  {
   "cell_type": "code",
   "execution_count": null,
   "id": "4f7fc839",
   "metadata": {
    "ExecuteTime": {
     "end_time": "2022-10-29T09:51:17.482696Z",
     "start_time": "2022-10-29T08:53:24.206740Z"
    },
    "hidden": true
   },
   "outputs": [],
   "source": [
    "show_model_ga_search_cv(model_grid_ga_nnet,\n",
    "                        MLPClassifier(learning_rate='invscaling'),\n",
    "                        'nnet')"
   ]
  },
  {
   "cell_type": "code",
   "execution_count": null,
   "id": "817f86a8",
   "metadata": {
    "ExecuteTime": {
     "end_time": "2022-10-29T11:38:18.418367Z",
     "start_time": "2022-10-29T09:57:50.088935Z"
    },
    "hidden": true
   },
   "outputs": [],
   "source": [
    "show_model_ga_search_cv(model_grid_ga_nnet,\n",
    "                        MLPClassifier(learning_rate='constant'),\n",
    "                        'nnet')"
   ]
  },
  {
   "cell_type": "code",
   "execution_count": null,
   "id": "5af12d5d",
   "metadata": {
    "ExecuteTime": {
     "end_time": "2022-10-29T11:39:43.090866Z",
     "start_time": "2022-10-29T11:39:43.084279Z"
    },
    "hidden": true
   },
   "outputs": [],
   "source": [
    "show_model_ga_search_cv(model_grid_ga_nnet,\n",
    "                        MLPClassifier(learning_rate='adaptive'),\n",
    "                        'nnet')"
   ]
  },
  {
   "cell_type": "markdown",
   "id": "5c85d96d",
   "metadata": {
    "heading_collapsed": true
   },
   "source": [
    "## Results"
   ]
  },
  {
   "cell_type": "markdown",
   "id": "7d960dba",
   "metadata": {
    "hidden": true
   },
   "source": [
    "the best models are xgboost, svm"
   ]
  },
  {
   "cell_type": "markdown",
   "id": "7fd88a26",
   "metadata": {},
   "source": [
    "## Ensembling best models"
   ]
  },
  {
   "cell_type": "code",
   "execution_count": 10,
   "id": "ce71c3cc",
   "metadata": {
    "ExecuteTime": {
     "end_time": "2022-10-30T14:24:56.020098Z",
     "start_time": "2022-10-30T14:24:55.905558Z"
    }
   },
   "outputs": [
    {
     "name": "stdout",
     "output_type": "stream",
     "text": [
      "best xgb\n"
     ]
    }
   ],
   "source": [
    "best_grid = {\n",
    "    'subsample': 0.816261607081251,\n",
    "    'colsample_bytree': 0.8565208459725928,\n",
    "    'max_depth': 2,\n",
    "    'min_child_weight': 2,\n",
    "    'learning_rate': 0.017752334965135397,\n",
    "    'n_estimators': 178\n",
    "}\n",
    "best_grid = {\n",
    "    'subsample': 0.9506464198949532,\n",
    "    'colsample_bytree': 0.8263276691741828,\n",
    "    'max_depth': 2,\n",
    "    'min_child_weight': 4,\n",
    "    'learning_rate': 0.0866270841576895,\n",
    "    'n_estimators': 32\n",
    "}\n",
    "\n",
    "model_xgb = XGBClassifier(**best_grid)\n",
    "model_xgb.fit(X, y)\n",
    "print('best xgb')"
   ]
  },
  {
   "cell_type": "code",
   "execution_count": 11,
   "id": "40ef7f24",
   "metadata": {
    "ExecuteTime": {
     "end_time": "2022-10-30T14:24:58.349608Z",
     "start_time": "2022-10-30T14:24:58.304566Z"
    }
   },
   "outputs": [
    {
     "name": "stdout",
     "output_type": "stream",
     "text": [
      "best svc\n"
     ]
    }
   ],
   "source": [
    "best_grid = {\n",
    "    'C': 326.7,#0658550096834,\n",
    "    'gamma': 0.74#82090936576415\n",
    "}\n",
    "model_svc = SVC(kernel='rbf', **best_grid)\n",
    "model_svc.fit(X, y)\n",
    "print('best svc')"
   ]
  },
  {
   "cell_type": "code",
   "execution_count": 12,
   "id": "8351ede6",
   "metadata": {
    "ExecuteTime": {
     "end_time": "2022-10-30T14:25:00.395037Z",
     "start_time": "2022-10-30T14:25:00.249652Z"
    }
   },
   "outputs": [
    {
     "name": "stdout",
     "output_type": "stream",
     "text": [
      "best rf\n"
     ]
    }
   ],
   "source": [
    "best_grid = {\n",
    "    'max_depth': 36,\n",
    "    'max_features': 7,\n",
    "    'min_samples_leaf': 6,\n",
    "    'min_samples_split': 6,\n",
    "    'n_estimators': 135\n",
    "}\n",
    "model_rf = RandomForestClassifier(**best_grid)\n",
    "model_rf.fit(X, y)\n",
    "print('best rf')"
   ]
  },
  {
   "cell_type": "code",
   "execution_count": 13,
   "id": "e67f4910",
   "metadata": {
    "ExecuteTime": {
     "end_time": "2022-10-30T14:25:02.607936Z",
     "start_time": "2022-10-30T14:25:02.334864Z"
    }
   },
   "outputs": [
    {
     "name": "stdout",
     "output_type": "stream",
     "text": [
      "best ensemble\n"
     ]
    }
   ],
   "source": [
    "estimators = [('xgb', model_xgb), ('svc', model_svc), ('rf', model_rf)]\n",
    "ensemble = VotingClassifier(estimators, voting='hard')\n",
    "ensemble.fit(X, y)\n",
    "print('best ensemble')"
   ]
  },
  {
   "cell_type": "markdown",
   "id": "7bc07d96",
   "metadata": {},
   "source": [
    "# Prediction on new data (Kaggle submission)"
   ]
  },
  {
   "cell_type": "code",
   "execution_count": 14,
   "id": "a2944120",
   "metadata": {
    "ExecuteTime": {
     "end_time": "2022-10-30T14:25:04.275195Z",
     "start_time": "2022-10-30T14:25:04.166172Z"
    }
   },
   "outputs": [],
   "source": [
    "X_test_new = pd.read_csv('test.csv')\n",
    "X_test_new = titanic_transform(X_test_new)\n",
    "predictions = ensemble.predict(X_test_new) #model_xgb ensemble\n",
    "\n",
    "X_test_ps = pd.read_csv('test.csv')\n",
    "submission = pd.DataFrame({'PassengerId': X_test_ps.PassengerId, 'Survived': predictions})\n",
    "submission.to_csv('submission.csv', index=False)"
   ]
  },
  {
   "cell_type": "code",
   "execution_count": null,
   "id": "93ce0d04",
   "metadata": {
    "ExecuteTime": {
     "end_time": "2022-10-29T16:36:31.587470Z",
     "start_time": "2022-10-29T16:36:31.526960Z"
    }
   },
   "outputs": [],
   "source": []
  }
 ],
 "metadata": {
  "kernelspec": {
   "display_name": "Python 3 (ipykernel)",
   "language": "python",
   "name": "python3"
  },
  "language_info": {
   "codemirror_mode": {
    "name": "ipython",
    "version": 3
   },
   "file_extension": ".py",
   "mimetype": "text/x-python",
   "name": "python",
   "nbconvert_exporter": "python",
   "pygments_lexer": "ipython3",
   "version": "3.10.0"
  },
  "toc": {
   "base_numbering": 1,
   "nav_menu": {},
   "number_sections": true,
   "sideBar": true,
   "skip_h1_title": false,
   "title_cell": "Table of Contents",
   "title_sidebar": "Contents",
   "toc_cell": false,
   "toc_position": {},
   "toc_section_display": true,
   "toc_window_display": false
  },
  "varInspector": {
   "cols": {
    "lenName": 16,
    "lenType": 16,
    "lenVar": 40
   },
   "kernels_config": {
    "python": {
     "delete_cmd_postfix": "",
     "delete_cmd_prefix": "del ",
     "library": "var_list.py",
     "varRefreshCmd": "print(var_dic_list())"
    },
    "r": {
     "delete_cmd_postfix": ") ",
     "delete_cmd_prefix": "rm(",
     "library": "var_list.r",
     "varRefreshCmd": "cat(var_dic_list()) "
    }
   },
   "types_to_exclude": [
    "module",
    "function",
    "builtin_function_or_method",
    "instance",
    "_Feature"
   ],
   "window_display": false
  }
 },
 "nbformat": 4,
 "nbformat_minor": 5
}
